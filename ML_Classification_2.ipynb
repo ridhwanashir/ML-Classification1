{
  "nbformat": 4,
  "nbformat_minor": 0,
  "metadata": {
    "colab": {
      "name": "ML_Classification 2.ipynb",
      "provenance": [],
      "collapsed_sections": [],
      "toc_visible": true
    },
    "kernelspec": {
      "name": "python3",
      "display_name": "Python 3"
    },
    "language_info": {
      "name": "python"
    }
  },
  "cells": [
    {
      "cell_type": "markdown",
      "metadata": {
        "id": "4jX0ZtQyx8gx"
      },
      "source": [
        "Ridhwan Nashir - 1301184259 - IF42-01\n",
        "\n",
        "IGD Raditya Wibhawa MN - 1301180508 - IF42-01\n",
        "# **Tugas Besar Machine Learning 2 Classification**\n",
        "\n",
        "Pada tugas klasifikasi ini akan dibandingkan akurasi dari 6 metode klasifikasi.\n",
        "\n",
        "Pada notebook ini, akan dilakukan 6 percobaan yaitu :\n",
        "\n",
        "1. Klasifikasi menggunakan NB\n",
        "2. Klasifikasi menggunakan SVM\n",
        "3. Klasifikasi menggunakan KNN\n",
        "4. Klasifikasi menggunakan Logistic Regression\n",
        "5. Klasifikasi menggunakan Decision Tree\n",
        "6. Klasifikasi menggunakan Random Forest\n",
        "\n",
        "Hasil dari keenam percobaan tersebut kemudian akan dibandingkan akurasinya."
      ]
    },
    {
      "cell_type": "markdown",
      "metadata": {
        "id": "7i9BAgQJ6JdP"
      },
      "source": [
        "# Eksplorasi Data"
      ]
    },
    {
      "cell_type": "code",
      "metadata": {
        "id": "y--Jbg4nxvSM"
      },
      "source": [
        "# library\n",
        "import matplotlib.pyplot as plt\n",
        "import matplotlib as mpl\n",
        "import pandas as pd\n",
        "%matplotlib inline\n",
        "import numpy as np \n",
        "import seaborn as sns\n",
        "import warnings\n",
        "warnings.filterwarnings('ignore')"
      ],
      "execution_count": 1,
      "outputs": []
    },
    {
      "cell_type": "markdown",
      "metadata": {
        "id": "UgMTOxRqUs6G"
      },
      "source": [
        "## Data Test"
      ]
    },
    {
      "cell_type": "code",
      "metadata": {
        "colab": {
          "base_uri": "https://localhost:8080/",
          "height": 224
        },
        "id": "IboS_4eN4dK3",
        "outputId": "b98c0024-a3c0-4cae-bd17-f2a01d2bc264"
      },
      "source": [
        "# datatest\n",
        "url = 'https://raw.githubusercontent.com/ridhwanashir/ML-Classification-NBSVM/main/salju_test.csv'\n",
        "datatest = pd.read_csv(url) \n",
        "datatest.head()"
      ],
      "execution_count": 2,
      "outputs": [
        {
          "output_type": "execute_result",
          "data": {
            "text/html": [
              "<div>\n",
              "<style scoped>\n",
              "    .dataframe tbody tr th:only-of-type {\n",
              "        vertical-align: middle;\n",
              "    }\n",
              "\n",
              "    .dataframe tbody tr th {\n",
              "        vertical-align: top;\n",
              "    }\n",
              "\n",
              "    .dataframe thead th {\n",
              "        text-align: right;\n",
              "    }\n",
              "</style>\n",
              "<table border=\"1\" class=\"dataframe\">\n",
              "  <thead>\n",
              "    <tr style=\"text-align: right;\">\n",
              "      <th></th>\n",
              "      <th>Tanggal</th>\n",
              "      <th>KodeLokasi</th>\n",
              "      <th>SuhuMin</th>\n",
              "      <th>SuhuMax</th>\n",
              "      <th>Hujan</th>\n",
              "      <th>Penguapan</th>\n",
              "      <th>SinarMatahari</th>\n",
              "      <th>ArahAnginTerkencang</th>\n",
              "      <th>KecepatanAnginTerkencang</th>\n",
              "      <th>ArahAngin9am</th>\n",
              "      <th>ArahAngin3pm</th>\n",
              "      <th>KecepatanAngin9am</th>\n",
              "      <th>KecepatanAngin3pm</th>\n",
              "      <th>Kelembaban9am</th>\n",
              "      <th>Kelembaban3pm</th>\n",
              "      <th>Tekanan9am</th>\n",
              "      <th>Tekanan3pm</th>\n",
              "      <th>Awan9am</th>\n",
              "      <th>Awan3pm</th>\n",
              "      <th>Suhu9am</th>\n",
              "      <th>Suhu3pm</th>\n",
              "      <th>BersaljuHariIni</th>\n",
              "      <th>BersaljuBesok</th>\n",
              "    </tr>\n",
              "  </thead>\n",
              "  <tbody>\n",
              "    <tr>\n",
              "      <th>0</th>\n",
              "      <td>04/11/2010</td>\n",
              "      <td>C39</td>\n",
              "      <td>11.0</td>\n",
              "      <td>27.5</td>\n",
              "      <td>0.0</td>\n",
              "      <td>NaN</td>\n",
              "      <td>6.4</td>\n",
              "      <td>WSW</td>\n",
              "      <td>46.0</td>\n",
              "      <td>W</td>\n",
              "      <td>W</td>\n",
              "      <td>20.0</td>\n",
              "      <td>28.0</td>\n",
              "      <td>39.0</td>\n",
              "      <td>56.0</td>\n",
              "      <td>1013.0</td>\n",
              "      <td>1012.4</td>\n",
              "      <td>4.0</td>\n",
              "      <td>7.0</td>\n",
              "      <td>25.7</td>\n",
              "      <td>23.6</td>\n",
              "      <td>No</td>\n",
              "      <td>No</td>\n",
              "    </tr>\n",
              "    <tr>\n",
              "      <th>1</th>\n",
              "      <td>26/03/2015</td>\n",
              "      <td>C35</td>\n",
              "      <td>10.0</td>\n",
              "      <td>19.9</td>\n",
              "      <td>0.2</td>\n",
              "      <td>NaN</td>\n",
              "      <td>NaN</td>\n",
              "      <td>WNW</td>\n",
              "      <td>56.0</td>\n",
              "      <td>W</td>\n",
              "      <td>NW</td>\n",
              "      <td>24.0</td>\n",
              "      <td>33.0</td>\n",
              "      <td>76.0</td>\n",
              "      <td>32.0</td>\n",
              "      <td>1017.0</td>\n",
              "      <td>1015.2</td>\n",
              "      <td>8.0</td>\n",
              "      <td>1.0</td>\n",
              "      <td>10.7</td>\n",
              "      <td>18.9</td>\n",
              "      <td>No</td>\n",
              "      <td>Yes</td>\n",
              "    </tr>\n",
              "    <tr>\n",
              "      <th>2</th>\n",
              "      <td>22/03/2016</td>\n",
              "      <td>C18</td>\n",
              "      <td>9.2</td>\n",
              "      <td>27.2</td>\n",
              "      <td>0.0</td>\n",
              "      <td>5.2</td>\n",
              "      <td>10.4</td>\n",
              "      <td>SSW</td>\n",
              "      <td>33.0</td>\n",
              "      <td>NE</td>\n",
              "      <td>N</td>\n",
              "      <td>13.0</td>\n",
              "      <td>19.0</td>\n",
              "      <td>89.0</td>\n",
              "      <td>27.0</td>\n",
              "      <td>1018.6</td>\n",
              "      <td>1015.7</td>\n",
              "      <td>0.0</td>\n",
              "      <td>1.0</td>\n",
              "      <td>13.9</td>\n",
              "      <td>26.3</td>\n",
              "      <td>No</td>\n",
              "      <td>No</td>\n",
              "    </tr>\n",
              "    <tr>\n",
              "      <th>3</th>\n",
              "      <td>09/12/2011</td>\n",
              "      <td>C31</td>\n",
              "      <td>17.7</td>\n",
              "      <td>27.0</td>\n",
              "      <td>0.0</td>\n",
              "      <td>4.6</td>\n",
              "      <td>6.7</td>\n",
              "      <td>SW</td>\n",
              "      <td>35.0</td>\n",
              "      <td>E</td>\n",
              "      <td>SSE</td>\n",
              "      <td>20.0</td>\n",
              "      <td>15.0</td>\n",
              "      <td>55.0</td>\n",
              "      <td>41.0</td>\n",
              "      <td>1010.2</td>\n",
              "      <td>1008.6</td>\n",
              "      <td>7.0</td>\n",
              "      <td>6.0</td>\n",
              "      <td>22.3</td>\n",
              "      <td>26.4</td>\n",
              "      <td>No</td>\n",
              "      <td>No</td>\n",
              "    </tr>\n",
              "    <tr>\n",
              "      <th>4</th>\n",
              "      <td>20/05/2017</td>\n",
              "      <td>C14</td>\n",
              "      <td>2.3</td>\n",
              "      <td>7.9</td>\n",
              "      <td>88.0</td>\n",
              "      <td>NaN</td>\n",
              "      <td>NaN</td>\n",
              "      <td>NW</td>\n",
              "      <td>46.0</td>\n",
              "      <td>W</td>\n",
              "      <td>WNW</td>\n",
              "      <td>13.0</td>\n",
              "      <td>9.0</td>\n",
              "      <td>98.0</td>\n",
              "      <td>95.0</td>\n",
              "      <td>NaN</td>\n",
              "      <td>NaN</td>\n",
              "      <td>NaN</td>\n",
              "      <td>NaN</td>\n",
              "      <td>4.4</td>\n",
              "      <td>6.0</td>\n",
              "      <td>Yes</td>\n",
              "      <td>No</td>\n",
              "    </tr>\n",
              "  </tbody>\n",
              "</table>\n",
              "</div>"
            ],
            "text/plain": [
              "      Tanggal KodeLokasi  SuhuMin  ...  Suhu3pm  BersaljuHariIni  BersaljuBesok\n",
              "0  04/11/2010        C39     11.0  ...     23.6               No             No\n",
              "1  26/03/2015        C35     10.0  ...     18.9               No            Yes\n",
              "2  22/03/2016        C18      9.2  ...     26.3               No             No\n",
              "3  09/12/2011        C31     17.7  ...     26.4               No             No\n",
              "4  20/05/2017        C14      2.3  ...      6.0              Yes             No\n",
              "\n",
              "[5 rows x 23 columns]"
            ]
          },
          "metadata": {
            "tags": []
          },
          "execution_count": 2
        }
      ]
    },
    {
      "cell_type": "code",
      "metadata": {
        "colab": {
          "base_uri": "https://localhost:8080/"
        },
        "id": "e-vvp06PUHP-",
        "outputId": "335e54d5-3257-47dd-8310-f70926b0168b"
      },
      "source": [
        "datatest.dtypes"
      ],
      "execution_count": 3,
      "outputs": [
        {
          "output_type": "execute_result",
          "data": {
            "text/plain": [
              "Tanggal                      object\n",
              "KodeLokasi                   object\n",
              "SuhuMin                     float64\n",
              "SuhuMax                     float64\n",
              "Hujan                       float64\n",
              "Penguapan                   float64\n",
              "SinarMatahari               float64\n",
              "ArahAnginTerkencang          object\n",
              "KecepatanAnginTerkencang    float64\n",
              "ArahAngin9am                 object\n",
              "ArahAngin3pm                 object\n",
              "KecepatanAngin9am           float64\n",
              "KecepatanAngin3pm           float64\n",
              "Kelembaban9am               float64\n",
              "Kelembaban3pm               float64\n",
              "Tekanan9am                  float64\n",
              "Tekanan3pm                  float64\n",
              "Awan9am                     float64\n",
              "Awan3pm                     float64\n",
              "Suhu9am                     float64\n",
              "Suhu3pm                     float64\n",
              "BersaljuHariIni              object\n",
              "BersaljuBesok                object\n",
              "dtype: object"
            ]
          },
          "metadata": {
            "tags": []
          },
          "execution_count": 3
        }
      ]
    },
    {
      "cell_type": "markdown",
      "metadata": {
        "id": "aJ2nY-dlULEk"
      },
      "source": [
        "## Data Train"
      ]
    },
    {
      "cell_type": "code",
      "metadata": {
        "colab": {
          "base_uri": "https://localhost:8080/",
          "height": 224
        },
        "id": "eHQ4UszI4Vcg",
        "outputId": "9234a01a-d22b-4878-ff86-f3996cef3550"
      },
      "source": [
        "# datatrain\n",
        "url = 'https://raw.githubusercontent.com/ridhwanashir/ML-Classification-NBSVM/main/salju_train.csv'\n",
        "datatrain = pd.read_csv(url) \n",
        "datatrain.head()"
      ],
      "execution_count": 4,
      "outputs": [
        {
          "output_type": "execute_result",
          "data": {
            "text/html": [
              "<div>\n",
              "<style scoped>\n",
              "    .dataframe tbody tr th:only-of-type {\n",
              "        vertical-align: middle;\n",
              "    }\n",
              "\n",
              "    .dataframe tbody tr th {\n",
              "        vertical-align: top;\n",
              "    }\n",
              "\n",
              "    .dataframe thead th {\n",
              "        text-align: right;\n",
              "    }\n",
              "</style>\n",
              "<table border=\"1\" class=\"dataframe\">\n",
              "  <thead>\n",
              "    <tr style=\"text-align: right;\">\n",
              "      <th></th>\n",
              "      <th>id</th>\n",
              "      <th>Tanggal</th>\n",
              "      <th>KodeLokasi</th>\n",
              "      <th>SuhuMin</th>\n",
              "      <th>SuhuMax</th>\n",
              "      <th>Hujan</th>\n",
              "      <th>Penguapan</th>\n",
              "      <th>SinarMatahari</th>\n",
              "      <th>ArahAnginTerkencang</th>\n",
              "      <th>KecepatanAnginTerkencang</th>\n",
              "      <th>ArahAngin9am</th>\n",
              "      <th>ArahAngin3pm</th>\n",
              "      <th>KecepatanAngin9am</th>\n",
              "      <th>KecepatanAngin3pm</th>\n",
              "      <th>Kelembaban9am</th>\n",
              "      <th>Kelembaban3pm</th>\n",
              "      <th>Tekanan9am</th>\n",
              "      <th>Tekanan3pm</th>\n",
              "      <th>Awan9am</th>\n",
              "      <th>Awan3pm</th>\n",
              "      <th>Suhu9am</th>\n",
              "      <th>Suhu3pm</th>\n",
              "      <th>BersaljuHariIni</th>\n",
              "      <th>BersaljuBesok</th>\n",
              "    </tr>\n",
              "  </thead>\n",
              "  <tbody>\n",
              "    <tr>\n",
              "      <th>0</th>\n",
              "      <td>1</td>\n",
              "      <td>01/06/2014</td>\n",
              "      <td>C4</td>\n",
              "      <td>10.4</td>\n",
              "      <td>15.5</td>\n",
              "      <td>4.8</td>\n",
              "      <td>NaN</td>\n",
              "      <td>NaN</td>\n",
              "      <td>WSW</td>\n",
              "      <td>24.0</td>\n",
              "      <td>NaN</td>\n",
              "      <td>WSW</td>\n",
              "      <td>0.0</td>\n",
              "      <td>13.0</td>\n",
              "      <td>78.0</td>\n",
              "      <td>76.0</td>\n",
              "      <td>1020.1</td>\n",
              "      <td>1018.5</td>\n",
              "      <td>NaN</td>\n",
              "      <td>NaN</td>\n",
              "      <td>13.1</td>\n",
              "      <td>15.0</td>\n",
              "      <td>Ya</td>\n",
              "      <td>Tidak</td>\n",
              "    </tr>\n",
              "    <tr>\n",
              "      <th>1</th>\n",
              "      <td>2</td>\n",
              "      <td>15/07/2014</td>\n",
              "      <td>C10</td>\n",
              "      <td>9.0</td>\n",
              "      <td>17.0</td>\n",
              "      <td>8.0</td>\n",
              "      <td>2.6</td>\n",
              "      <td>7.4</td>\n",
              "      <td>NaN</td>\n",
              "      <td>NaN</td>\n",
              "      <td>SW</td>\n",
              "      <td>WNW</td>\n",
              "      <td>13.0</td>\n",
              "      <td>20.0</td>\n",
              "      <td>80.0</td>\n",
              "      <td>61.0</td>\n",
              "      <td>1015.2</td>\n",
              "      <td>1014.6</td>\n",
              "      <td>7.0</td>\n",
              "      <td>5.0</td>\n",
              "      <td>11.9</td>\n",
              "      <td>15.5</td>\n",
              "      <td>Ya</td>\n",
              "      <td>Ya</td>\n",
              "    </tr>\n",
              "    <tr>\n",
              "      <th>2</th>\n",
              "      <td>3</td>\n",
              "      <td>16/02/2011</td>\n",
              "      <td>C46</td>\n",
              "      <td>18.2</td>\n",
              "      <td>32.0</td>\n",
              "      <td>0.0</td>\n",
              "      <td>NaN</td>\n",
              "      <td>NaN</td>\n",
              "      <td>ESE</td>\n",
              "      <td>44.0</td>\n",
              "      <td>SE</td>\n",
              "      <td>SE</td>\n",
              "      <td>15.0</td>\n",
              "      <td>26.0</td>\n",
              "      <td>62.0</td>\n",
              "      <td>42.0</td>\n",
              "      <td>NaN</td>\n",
              "      <td>NaN</td>\n",
              "      <td>NaN</td>\n",
              "      <td>NaN</td>\n",
              "      <td>23.8</td>\n",
              "      <td>29.6</td>\n",
              "      <td>Tidak</td>\n",
              "      <td>Tidak</td>\n",
              "    </tr>\n",
              "    <tr>\n",
              "      <th>3</th>\n",
              "      <td>4</td>\n",
              "      <td>08/08/2012</td>\n",
              "      <td>C36</td>\n",
              "      <td>7.3</td>\n",
              "      <td>24.5</td>\n",
              "      <td>0.0</td>\n",
              "      <td>8.4</td>\n",
              "      <td>10.4</td>\n",
              "      <td>SSW</td>\n",
              "      <td>54.0</td>\n",
              "      <td>N</td>\n",
              "      <td>SW</td>\n",
              "      <td>13.0</td>\n",
              "      <td>19.0</td>\n",
              "      <td>25.0</td>\n",
              "      <td>17.0</td>\n",
              "      <td>1019.2</td>\n",
              "      <td>1016.9</td>\n",
              "      <td>1.0</td>\n",
              "      <td>7.0</td>\n",
              "      <td>15.3</td>\n",
              "      <td>23.2</td>\n",
              "      <td>Tidak</td>\n",
              "      <td>Tidak</td>\n",
              "    </tr>\n",
              "    <tr>\n",
              "      <th>4</th>\n",
              "      <td>5</td>\n",
              "      <td>29/10/2016</td>\n",
              "      <td>C7</td>\n",
              "      <td>5.9</td>\n",
              "      <td>20.3</td>\n",
              "      <td>0.0</td>\n",
              "      <td>3.6</td>\n",
              "      <td>12.6</td>\n",
              "      <td>N</td>\n",
              "      <td>37.0</td>\n",
              "      <td>NNW</td>\n",
              "      <td>ESE</td>\n",
              "      <td>22.0</td>\n",
              "      <td>19.0</td>\n",
              "      <td>55.0</td>\n",
              "      <td>48.0</td>\n",
              "      <td>1019.7</td>\n",
              "      <td>1014.7</td>\n",
              "      <td>2.0</td>\n",
              "      <td>6.0</td>\n",
              "      <td>12.4</td>\n",
              "      <td>18.1</td>\n",
              "      <td>Tidak</td>\n",
              "      <td>Tidak</td>\n",
              "    </tr>\n",
              "  </tbody>\n",
              "</table>\n",
              "</div>"
            ],
            "text/plain": [
              "   id     Tanggal KodeLokasi  ...  Suhu3pm  BersaljuHariIni  BersaljuBesok\n",
              "0   1  01/06/2014         C4  ...     15.0               Ya          Tidak\n",
              "1   2  15/07/2014        C10  ...     15.5               Ya             Ya\n",
              "2   3  16/02/2011        C46  ...     29.6            Tidak          Tidak\n",
              "3   4  08/08/2012        C36  ...     23.2            Tidak          Tidak\n",
              "4   5  29/10/2016         C7  ...     18.1            Tidak          Tidak\n",
              "\n",
              "[5 rows x 24 columns]"
            ]
          },
          "metadata": {
            "tags": []
          },
          "execution_count": 4
        }
      ]
    },
    {
      "cell_type": "code",
      "metadata": {
        "colab": {
          "base_uri": "https://localhost:8080/"
        },
        "id": "aTXCBYBEUvnV",
        "outputId": "0cf19121-5b3f-4a3f-f54b-cab094ea89a9"
      },
      "source": [
        "datatrain.dtypes"
      ],
      "execution_count": 5,
      "outputs": [
        {
          "output_type": "execute_result",
          "data": {
            "text/plain": [
              "id                            int64\n",
              "Tanggal                      object\n",
              "KodeLokasi                   object\n",
              "SuhuMin                     float64\n",
              "SuhuMax                     float64\n",
              "Hujan                       float64\n",
              "Penguapan                   float64\n",
              "SinarMatahari               float64\n",
              "ArahAnginTerkencang          object\n",
              "KecepatanAnginTerkencang    float64\n",
              "ArahAngin9am                 object\n",
              "ArahAngin3pm                 object\n",
              "KecepatanAngin9am           float64\n",
              "KecepatanAngin3pm           float64\n",
              "Kelembaban9am               float64\n",
              "Kelembaban3pm               float64\n",
              "Tekanan9am                  float64\n",
              "Tekanan3pm                  float64\n",
              "Awan9am                     float64\n",
              "Awan3pm                     float64\n",
              "Suhu9am                     float64\n",
              "Suhu3pm                     float64\n",
              "BersaljuHariIni              object\n",
              "BersaljuBesok                object\n",
              "dtype: object"
            ]
          },
          "metadata": {
            "tags": []
          },
          "execution_count": 5
        }
      ]
    },
    {
      "cell_type": "markdown",
      "metadata": {
        "id": "o6SfdY6JXAg0"
      },
      "source": [
        "# Preprocessing Data\n"
      ]
    },
    {
      "cell_type": "markdown",
      "metadata": {
        "id": "zHEdNRwcrYht"
      },
      "source": [
        "## Pemilihan Fitur\n",
        "melakukan drop terhadap fitur dengan tipe data object kecuali fitur ***BersajuHariIni*** dan ***BersaljuBesok***"
      ]
    },
    {
      "cell_type": "code",
      "metadata": {
        "colab": {
          "base_uri": "https://localhost:8080/"
        },
        "id": "9Xq8WTKSZ5lB",
        "outputId": "5488ab85-7665-4417-8483-7b2302c53e1f"
      },
      "source": [
        "datatrain.drop(['id','Tanggal','KodeLokasi','ArahAnginTerkencang','ArahAngin9am','ArahAngin3pm'], axis='columns', inplace=True)\n",
        "datatrain.dtypes\n"
      ],
      "execution_count": 6,
      "outputs": [
        {
          "output_type": "execute_result",
          "data": {
            "text/plain": [
              "SuhuMin                     float64\n",
              "SuhuMax                     float64\n",
              "Hujan                       float64\n",
              "Penguapan                   float64\n",
              "SinarMatahari               float64\n",
              "KecepatanAnginTerkencang    float64\n",
              "KecepatanAngin9am           float64\n",
              "KecepatanAngin3pm           float64\n",
              "Kelembaban9am               float64\n",
              "Kelembaban3pm               float64\n",
              "Tekanan9am                  float64\n",
              "Tekanan3pm                  float64\n",
              "Awan9am                     float64\n",
              "Awan3pm                     float64\n",
              "Suhu9am                     float64\n",
              "Suhu3pm                     float64\n",
              "BersaljuHariIni              object\n",
              "BersaljuBesok                object\n",
              "dtype: object"
            ]
          },
          "metadata": {
            "tags": []
          },
          "execution_count": 6
        }
      ]
    },
    {
      "cell_type": "code",
      "metadata": {
        "colab": {
          "base_uri": "https://localhost:8080/"
        },
        "id": "A-1xYU-AS0Ls",
        "outputId": "cc0f6fd5-1ba4-4eaa-bfd6-92babf28cb5b"
      },
      "source": [
        "datatest.drop(['Tanggal','KodeLokasi','ArahAnginTerkencang','ArahAngin9am','ArahAngin3pm'], axis='columns', inplace=True)\n",
        "datatest.dtypes"
      ],
      "execution_count": 7,
      "outputs": [
        {
          "output_type": "execute_result",
          "data": {
            "text/plain": [
              "SuhuMin                     float64\n",
              "SuhuMax                     float64\n",
              "Hujan                       float64\n",
              "Penguapan                   float64\n",
              "SinarMatahari               float64\n",
              "KecepatanAnginTerkencang    float64\n",
              "KecepatanAngin9am           float64\n",
              "KecepatanAngin3pm           float64\n",
              "Kelembaban9am               float64\n",
              "Kelembaban3pm               float64\n",
              "Tekanan9am                  float64\n",
              "Tekanan3pm                  float64\n",
              "Awan9am                     float64\n",
              "Awan3pm                     float64\n",
              "Suhu9am                     float64\n",
              "Suhu3pm                     float64\n",
              "BersaljuHariIni              object\n",
              "BersaljuBesok                object\n",
              "dtype: object"
            ]
          },
          "metadata": {
            "tags": []
          },
          "execution_count": 7
        }
      ]
    },
    {
      "cell_type": "markdown",
      "metadata": {
        "id": "vCb3-zni-OK4"
      },
      "source": [
        "## Duplikasi Datatrain"
      ]
    },
    {
      "cell_type": "code",
      "metadata": {
        "colab": {
          "base_uri": "https://localhost:8080/"
        },
        "id": "NhkzGSG_XFBO",
        "outputId": "cb3ea99b-8825-483a-f83a-3d6551f36356"
      },
      "source": [
        "# Cek duplikat datatrain \n",
        "duplicate_check = datatrain.duplicated()\n",
        "print(\"Sebelum\")\n",
        "print('Jumlah Data Duplikat = %d' % (duplicate_check.sum()))\n",
        "print('Total Data = %d' % (datatrain.shape[0]))\n"
      ],
      "execution_count": 8,
      "outputs": [
        {
          "output_type": "stream",
          "text": [
            "Sebelum\n",
            "Jumlah Data Duplikat = 177\n",
            "Total Data = 109095\n"
          ],
          "name": "stdout"
        }
      ]
    },
    {
      "cell_type": "code",
      "metadata": {
        "colab": {
          "base_uri": "https://localhost:8080/"
        },
        "id": "NeAzZXmD-uOq",
        "outputId": "9b85b39a-ddf7-455a-a903-dee4cbf23299"
      },
      "source": [
        "# Hapus data duplikat\n",
        "datatrain = datatrain.drop_duplicates()\n",
        "duplicate_check = datatrain.duplicated()\n",
        "print(\"Sesudah\")\n",
        "print('Jumlah Data Duplikat = %d' % (duplicate_check.sum()))\n",
        "print('Total Data = %d' % (datatrain.shape[0]))"
      ],
      "execution_count": 9,
      "outputs": [
        {
          "output_type": "stream",
          "text": [
            "Sesudah\n",
            "Jumlah Data Duplikat = 0\n",
            "Total Data = 108918\n"
          ],
          "name": "stdout"
        }
      ]
    },
    {
      "cell_type": "markdown",
      "metadata": {
        "id": "b7vFhwKoZzC6"
      },
      "source": [
        "## Drop Missing Value\n",
        "melakukan drop terhadap data yang mengandung nilai *null*"
      ]
    },
    {
      "cell_type": "markdown",
      "metadata": {
        "id": "tm7jCFjRgeL5"
      },
      "source": [
        "### Test"
      ]
    },
    {
      "cell_type": "code",
      "metadata": {
        "colab": {
          "base_uri": "https://localhost:8080/"
        },
        "id": "htCWezCAYGhn",
        "outputId": "8879ac40-afb8-4eeb-db14-5ce80f839664"
      },
      "source": [
        "# Cek missing value\n",
        "missingdata=datatest.isnull().sum().sort_values(ascending = False)\n",
        "print(missingdata)"
      ],
      "execution_count": 10,
      "outputs": [
        {
          "output_type": "stream",
          "text": [
            "SinarMatahari               8718\n",
            "Penguapan                   7856\n",
            "Awan3pm                     7456\n",
            "Awan9am                     7042\n",
            "Tekanan9am                  1865\n",
            "Tekanan3pm                  1853\n",
            "KecepatanAnginTerkencang    1274\n",
            "Kelembaban3pm                548\n",
            "Suhu3pm                      442\n",
            "BersaljuBesok                419\n",
            "Hujan                        387\n",
            "BersaljuHariIni              387\n",
            "KecepatanAngin3pm            354\n",
            "Kelembaban9am                330\n",
            "Suhu9am                      219\n",
            "KecepatanAngin9am            198\n",
            "SuhuMax                      165\n",
            "SuhuMin                      165\n",
            "dtype: int64\n"
          ],
          "name": "stdout"
        }
      ]
    },
    {
      "cell_type": "code",
      "metadata": {
        "colab": {
          "base_uri": "https://localhost:8080/"
        },
        "id": "EwLzrUWtripm",
        "outputId": "5883bef9-417b-4e47-fd93-5e53e10eca89"
      },
      "source": [
        "datatest = datatest.dropna(how='any')\n",
        "datatest.isnull().sum()"
      ],
      "execution_count": 11,
      "outputs": [
        {
          "output_type": "execute_result",
          "data": {
            "text/plain": [
              "SuhuMin                     0\n",
              "SuhuMax                     0\n",
              "Hujan                       0\n",
              "Penguapan                   0\n",
              "SinarMatahari               0\n",
              "KecepatanAnginTerkencang    0\n",
              "KecepatanAngin9am           0\n",
              "KecepatanAngin3pm           0\n",
              "Kelembaban9am               0\n",
              "Kelembaban3pm               0\n",
              "Tekanan9am                  0\n",
              "Tekanan3pm                  0\n",
              "Awan9am                     0\n",
              "Awan3pm                     0\n",
              "Suhu9am                     0\n",
              "Suhu3pm                     0\n",
              "BersaljuHariIni             0\n",
              "BersaljuBesok               0\n",
              "dtype: int64"
            ]
          },
          "metadata": {
            "tags": []
          },
          "execution_count": 11
        }
      ]
    },
    {
      "cell_type": "code",
      "metadata": {
        "colab": {
          "base_uri": "https://localhost:8080/"
        },
        "id": "PCjdYKsotCw7",
        "outputId": "3d8ca30c-d22c-48e1-f28e-5aaa3e91d826"
      },
      "source": [
        "datatest.describe"
      ],
      "execution_count": 12,
      "outputs": [
        {
          "output_type": "execute_result",
          "data": {
            "text/plain": [
              "<bound method NDFrame.describe of        SuhuMin  SuhuMax  Hujan  ...  Suhu3pm  BersaljuHariIni  BersaljuBesok\n",
              "2          9.2     27.2    0.0  ...     26.3               No             No\n",
              "3         17.7     27.0    0.0  ...     26.4               No             No\n",
              "7         14.4     22.4    0.0  ...     20.9               No             No\n",
              "8         20.3     33.7    0.0  ...     32.2               No             No\n",
              "10         8.1     18.2    0.0  ...     17.7               No             No\n",
              "...        ...      ...    ...  ...      ...              ...            ...\n",
              "18170     13.4     24.9    0.0  ...     23.7               No             No\n",
              "18174     14.6     27.8    0.0  ...     25.3               No             No\n",
              "18177      7.8     25.8    0.0  ...     24.0               No             No\n",
              "18178     12.4     26.6    0.0  ...     25.7               No             No\n",
              "18180     12.5     26.7    0.0  ...     25.4               No             No\n",
              "\n",
              "[7225 rows x 18 columns]>"
            ]
          },
          "metadata": {
            "tags": []
          },
          "execution_count": 12
        }
      ]
    },
    {
      "cell_type": "markdown",
      "metadata": {
        "id": "4Y1aO1dZgh-B"
      },
      "source": [
        "### Train"
      ]
    },
    {
      "cell_type": "code",
      "metadata": {
        "colab": {
          "base_uri": "https://localhost:8080/"
        },
        "id": "rJTvhFgkgh-C",
        "outputId": "34cf4971-0ea8-4997-897d-322a6e2c247c"
      },
      "source": [
        "# Cek missing value\n",
        "missingdata=datatrain.isnull().sum().sort_values(ascending = False)\n",
        "print(missingdata)"
      ],
      "execution_count": 13,
      "outputs": [
        {
          "output_type": "stream",
          "text": [
            "SinarMatahari               52203\n",
            "Penguapan                   46848\n",
            "Awan3pm                     44294\n",
            "Awan9am                     41667\n",
            "Tekanan9am                  11150\n",
            "Tekanan3pm                  11131\n",
            "KecepatanAnginTerkencang     7519\n",
            "Kelembaban3pm                3197\n",
            "Suhu3pm                      2521\n",
            "BersaljuBesok                2289\n",
            "Hujan                        2289\n",
            "BersaljuHariIni              2289\n",
            "KecepatanAngin3pm            2126\n",
            "Kelembaban9am                1825\n",
            "KecepatanAngin9am            1176\n",
            "Suhu9am                      1163\n",
            "SuhuMin                       945\n",
            "SuhuMax                       757\n",
            "dtype: int64\n"
          ],
          "name": "stdout"
        }
      ]
    },
    {
      "cell_type": "code",
      "metadata": {
        "colab": {
          "base_uri": "https://localhost:8080/"
        },
        "id": "8B5RKqMEgh-D",
        "outputId": "5ce0999d-0605-4990-e1d5-7915248bca74"
      },
      "source": [
        "datatrain = datatrain.dropna(how='any')\n",
        "datatrain.isnull().sum()"
      ],
      "execution_count": 14,
      "outputs": [
        {
          "output_type": "execute_result",
          "data": {
            "text/plain": [
              "SuhuMin                     0\n",
              "SuhuMax                     0\n",
              "Hujan                       0\n",
              "Penguapan                   0\n",
              "SinarMatahari               0\n",
              "KecepatanAnginTerkencang    0\n",
              "KecepatanAngin9am           0\n",
              "KecepatanAngin3pm           0\n",
              "Kelembaban9am               0\n",
              "Kelembaban3pm               0\n",
              "Tekanan9am                  0\n",
              "Tekanan3pm                  0\n",
              "Awan9am                     0\n",
              "Awan3pm                     0\n",
              "Suhu9am                     0\n",
              "Suhu3pm                     0\n",
              "BersaljuHariIni             0\n",
              "BersaljuBesok               0\n",
              "dtype: int64"
            ]
          },
          "metadata": {
            "tags": []
          },
          "execution_count": 14
        }
      ]
    },
    {
      "cell_type": "code",
      "metadata": {
        "colab": {
          "base_uri": "https://localhost:8080/"
        },
        "id": "LRoVDnukgh-D",
        "outputId": "7d5077b8-23ae-497d-a060-1685606dce51"
      },
      "source": [
        "datatrain.describe"
      ],
      "execution_count": 15,
      "outputs": [
        {
          "output_type": "execute_result",
          "data": {
            "text/plain": [
              "<bound method NDFrame.describe of         SuhuMin  SuhuMax  Hujan  ...  Suhu3pm  BersaljuHariIni  BersaljuBesok\n",
              "3           7.3     24.5    0.0  ...     23.2            Tidak          Tidak\n",
              "4           5.9     20.3    0.0  ...     18.1            Tidak          Tidak\n",
              "5          14.4     21.8    0.0  ...     21.1            Tidak          Tidak\n",
              "6           7.7     18.7    0.2  ...     18.3            Tidak          Tidak\n",
              "8          18.4     35.3    0.0  ...     34.9            Tidak          Tidak\n",
              "...         ...      ...    ...  ...      ...              ...            ...\n",
              "109080     16.8     34.1    0.0  ...     33.0            Tidak          Tidak\n",
              "109082      8.7     19.0    0.0  ...     16.5            Tidak          Tidak\n",
              "109088     14.3     26.2    0.0  ...     25.5            Tidak          Tidak\n",
              "109090     20.1     23.7    0.0  ...     22.1            Tidak             Ya\n",
              "109093     10.8     29.8    0.0  ...     29.2            Tidak          Tidak\n",
              "\n",
              "[43677 rows x 18 columns]>"
            ]
          },
          "metadata": {
            "tags": []
          },
          "execution_count": 15
        }
      ]
    },
    {
      "cell_type": "markdown",
      "metadata": {
        "id": "4IakklglkUNE"
      },
      "source": [
        "## Scaling Fitur\n",
        "menjadikan fitur ***BersajuHariIni*** dan ***BersaljuBesok*** menjadi nilai boolean (1 atau 0), dan melakukan normalisasi terhadap fitur yang lain ke dalam *range* 0-1"
      ]
    },
    {
      "cell_type": "markdown",
      "metadata": {
        "id": "b65Po_ffSngr"
      },
      "source": [
        "### Test"
      ]
    },
    {
      "cell_type": "code",
      "metadata": {
        "colab": {
          "base_uri": "https://localhost:8080/",
          "height": 224
        },
        "id": "MWO-rb5lSxn2",
        "outputId": "5ef19b4e-e3d7-4527-f991-ff83280862c9"
      },
      "source": [
        "d = {'Yes': 1, 'No': 0}\n",
        "datatest['BersaljuHariIni'] = datatest['BersaljuHariIni'].map(d)\n",
        "datatest['BersaljuBesok'] = datatest['BersaljuBesok'].map(d)\n",
        "datatest.head()\n"
      ],
      "execution_count": 16,
      "outputs": [
        {
          "output_type": "execute_result",
          "data": {
            "text/html": [
              "<div>\n",
              "<style scoped>\n",
              "    .dataframe tbody tr th:only-of-type {\n",
              "        vertical-align: middle;\n",
              "    }\n",
              "\n",
              "    .dataframe tbody tr th {\n",
              "        vertical-align: top;\n",
              "    }\n",
              "\n",
              "    .dataframe thead th {\n",
              "        text-align: right;\n",
              "    }\n",
              "</style>\n",
              "<table border=\"1\" class=\"dataframe\">\n",
              "  <thead>\n",
              "    <tr style=\"text-align: right;\">\n",
              "      <th></th>\n",
              "      <th>SuhuMin</th>\n",
              "      <th>SuhuMax</th>\n",
              "      <th>Hujan</th>\n",
              "      <th>Penguapan</th>\n",
              "      <th>SinarMatahari</th>\n",
              "      <th>KecepatanAnginTerkencang</th>\n",
              "      <th>KecepatanAngin9am</th>\n",
              "      <th>KecepatanAngin3pm</th>\n",
              "      <th>Kelembaban9am</th>\n",
              "      <th>Kelembaban3pm</th>\n",
              "      <th>Tekanan9am</th>\n",
              "      <th>Tekanan3pm</th>\n",
              "      <th>Awan9am</th>\n",
              "      <th>Awan3pm</th>\n",
              "      <th>Suhu9am</th>\n",
              "      <th>Suhu3pm</th>\n",
              "      <th>BersaljuHariIni</th>\n",
              "      <th>BersaljuBesok</th>\n",
              "    </tr>\n",
              "  </thead>\n",
              "  <tbody>\n",
              "    <tr>\n",
              "      <th>2</th>\n",
              "      <td>9.2</td>\n",
              "      <td>27.2</td>\n",
              "      <td>0.0</td>\n",
              "      <td>5.2</td>\n",
              "      <td>10.4</td>\n",
              "      <td>33.0</td>\n",
              "      <td>13.0</td>\n",
              "      <td>19.0</td>\n",
              "      <td>89.0</td>\n",
              "      <td>27.0</td>\n",
              "      <td>1018.6</td>\n",
              "      <td>1015.7</td>\n",
              "      <td>0.0</td>\n",
              "      <td>1.0</td>\n",
              "      <td>13.9</td>\n",
              "      <td>26.3</td>\n",
              "      <td>0</td>\n",
              "      <td>0</td>\n",
              "    </tr>\n",
              "    <tr>\n",
              "      <th>3</th>\n",
              "      <td>17.7</td>\n",
              "      <td>27.0</td>\n",
              "      <td>0.0</td>\n",
              "      <td>4.6</td>\n",
              "      <td>6.7</td>\n",
              "      <td>35.0</td>\n",
              "      <td>20.0</td>\n",
              "      <td>15.0</td>\n",
              "      <td>55.0</td>\n",
              "      <td>41.0</td>\n",
              "      <td>1010.2</td>\n",
              "      <td>1008.6</td>\n",
              "      <td>7.0</td>\n",
              "      <td>6.0</td>\n",
              "      <td>22.3</td>\n",
              "      <td>26.4</td>\n",
              "      <td>0</td>\n",
              "      <td>0</td>\n",
              "    </tr>\n",
              "    <tr>\n",
              "      <th>7</th>\n",
              "      <td>14.4</td>\n",
              "      <td>22.4</td>\n",
              "      <td>0.0</td>\n",
              "      <td>4.4</td>\n",
              "      <td>3.9</td>\n",
              "      <td>28.0</td>\n",
              "      <td>9.0</td>\n",
              "      <td>11.0</td>\n",
              "      <td>57.0</td>\n",
              "      <td>51.0</td>\n",
              "      <td>1022.6</td>\n",
              "      <td>1020.7</td>\n",
              "      <td>7.0</td>\n",
              "      <td>7.0</td>\n",
              "      <td>18.3</td>\n",
              "      <td>20.9</td>\n",
              "      <td>0</td>\n",
              "      <td>0</td>\n",
              "    </tr>\n",
              "    <tr>\n",
              "      <th>8</th>\n",
              "      <td>20.3</td>\n",
              "      <td>33.7</td>\n",
              "      <td>0.0</td>\n",
              "      <td>11.8</td>\n",
              "      <td>11.1</td>\n",
              "      <td>52.0</td>\n",
              "      <td>20.0</td>\n",
              "      <td>24.0</td>\n",
              "      <td>54.0</td>\n",
              "      <td>33.0</td>\n",
              "      <td>1007.7</td>\n",
              "      <td>1005.6</td>\n",
              "      <td>5.0</td>\n",
              "      <td>5.0</td>\n",
              "      <td>24.6</td>\n",
              "      <td>32.2</td>\n",
              "      <td>0</td>\n",
              "      <td>0</td>\n",
              "    </tr>\n",
              "    <tr>\n",
              "      <th>10</th>\n",
              "      <td>8.1</td>\n",
              "      <td>18.2</td>\n",
              "      <td>0.0</td>\n",
              "      <td>1.6</td>\n",
              "      <td>5.1</td>\n",
              "      <td>31.0</td>\n",
              "      <td>11.0</td>\n",
              "      <td>15.0</td>\n",
              "      <td>94.0</td>\n",
              "      <td>48.0</td>\n",
              "      <td>1027.1</td>\n",
              "      <td>1024.5</td>\n",
              "      <td>7.0</td>\n",
              "      <td>7.0</td>\n",
              "      <td>10.3</td>\n",
              "      <td>17.7</td>\n",
              "      <td>0</td>\n",
              "      <td>0</td>\n",
              "    </tr>\n",
              "  </tbody>\n",
              "</table>\n",
              "</div>"
            ],
            "text/plain": [
              "    SuhuMin  SuhuMax  Hujan  ...  Suhu3pm  BersaljuHariIni  BersaljuBesok\n",
              "2       9.2     27.2    0.0  ...     26.3                0              0\n",
              "3      17.7     27.0    0.0  ...     26.4                0              0\n",
              "7      14.4     22.4    0.0  ...     20.9                0              0\n",
              "8      20.3     33.7    0.0  ...     32.2                0              0\n",
              "10      8.1     18.2    0.0  ...     17.7                0              0\n",
              "\n",
              "[5 rows x 18 columns]"
            ]
          },
          "metadata": {
            "tags": []
          },
          "execution_count": 16
        }
      ]
    },
    {
      "cell_type": "code",
      "metadata": {
        "colab": {
          "base_uri": "https://localhost:8080/",
          "height": 204
        },
        "id": "OGxltK6BSxn-",
        "outputId": "7713e523-471a-4fe2-8d93-31137b33ac26"
      },
      "source": [
        "# Split Data Test (label)\n",
        "testtarget = datatest.iloc[:,[17]]\n",
        "testtarget.head()"
      ],
      "execution_count": 17,
      "outputs": [
        {
          "output_type": "execute_result",
          "data": {
            "text/html": [
              "<div>\n",
              "<style scoped>\n",
              "    .dataframe tbody tr th:only-of-type {\n",
              "        vertical-align: middle;\n",
              "    }\n",
              "\n",
              "    .dataframe tbody tr th {\n",
              "        vertical-align: top;\n",
              "    }\n",
              "\n",
              "    .dataframe thead th {\n",
              "        text-align: right;\n",
              "    }\n",
              "</style>\n",
              "<table border=\"1\" class=\"dataframe\">\n",
              "  <thead>\n",
              "    <tr style=\"text-align: right;\">\n",
              "      <th></th>\n",
              "      <th>BersaljuBesok</th>\n",
              "    </tr>\n",
              "  </thead>\n",
              "  <tbody>\n",
              "    <tr>\n",
              "      <th>2</th>\n",
              "      <td>0</td>\n",
              "    </tr>\n",
              "    <tr>\n",
              "      <th>3</th>\n",
              "      <td>0</td>\n",
              "    </tr>\n",
              "    <tr>\n",
              "      <th>7</th>\n",
              "      <td>0</td>\n",
              "    </tr>\n",
              "    <tr>\n",
              "      <th>8</th>\n",
              "      <td>0</td>\n",
              "    </tr>\n",
              "    <tr>\n",
              "      <th>10</th>\n",
              "      <td>0</td>\n",
              "    </tr>\n",
              "  </tbody>\n",
              "</table>\n",
              "</div>"
            ],
            "text/plain": [
              "    BersaljuBesok\n",
              "2               0\n",
              "3               0\n",
              "7               0\n",
              "8               0\n",
              "10              0"
            ]
          },
          "metadata": {
            "tags": []
          },
          "execution_count": 17
        }
      ]
    },
    {
      "cell_type": "code",
      "metadata": {
        "colab": {
          "base_uri": "https://localhost:8080/",
          "height": 224
        },
        "id": "dFysTbPRSxn_",
        "outputId": "9ad10daf-2c75-42a1-dc3f-9ba3a81d5c57"
      },
      "source": [
        "# Split Data Test (fitur)\n",
        "testdata = datatest.iloc[:,[0,1,2,3,4,5,6,7,8,9,10,11,12,13,14,15,16]]\n",
        "testdata.head()"
      ],
      "execution_count": 18,
      "outputs": [
        {
          "output_type": "execute_result",
          "data": {
            "text/html": [
              "<div>\n",
              "<style scoped>\n",
              "    .dataframe tbody tr th:only-of-type {\n",
              "        vertical-align: middle;\n",
              "    }\n",
              "\n",
              "    .dataframe tbody tr th {\n",
              "        vertical-align: top;\n",
              "    }\n",
              "\n",
              "    .dataframe thead th {\n",
              "        text-align: right;\n",
              "    }\n",
              "</style>\n",
              "<table border=\"1\" class=\"dataframe\">\n",
              "  <thead>\n",
              "    <tr style=\"text-align: right;\">\n",
              "      <th></th>\n",
              "      <th>SuhuMin</th>\n",
              "      <th>SuhuMax</th>\n",
              "      <th>Hujan</th>\n",
              "      <th>Penguapan</th>\n",
              "      <th>SinarMatahari</th>\n",
              "      <th>KecepatanAnginTerkencang</th>\n",
              "      <th>KecepatanAngin9am</th>\n",
              "      <th>KecepatanAngin3pm</th>\n",
              "      <th>Kelembaban9am</th>\n",
              "      <th>Kelembaban3pm</th>\n",
              "      <th>Tekanan9am</th>\n",
              "      <th>Tekanan3pm</th>\n",
              "      <th>Awan9am</th>\n",
              "      <th>Awan3pm</th>\n",
              "      <th>Suhu9am</th>\n",
              "      <th>Suhu3pm</th>\n",
              "      <th>BersaljuHariIni</th>\n",
              "    </tr>\n",
              "  </thead>\n",
              "  <tbody>\n",
              "    <tr>\n",
              "      <th>2</th>\n",
              "      <td>9.2</td>\n",
              "      <td>27.2</td>\n",
              "      <td>0.0</td>\n",
              "      <td>5.2</td>\n",
              "      <td>10.4</td>\n",
              "      <td>33.0</td>\n",
              "      <td>13.0</td>\n",
              "      <td>19.0</td>\n",
              "      <td>89.0</td>\n",
              "      <td>27.0</td>\n",
              "      <td>1018.6</td>\n",
              "      <td>1015.7</td>\n",
              "      <td>0.0</td>\n",
              "      <td>1.0</td>\n",
              "      <td>13.9</td>\n",
              "      <td>26.3</td>\n",
              "      <td>0</td>\n",
              "    </tr>\n",
              "    <tr>\n",
              "      <th>3</th>\n",
              "      <td>17.7</td>\n",
              "      <td>27.0</td>\n",
              "      <td>0.0</td>\n",
              "      <td>4.6</td>\n",
              "      <td>6.7</td>\n",
              "      <td>35.0</td>\n",
              "      <td>20.0</td>\n",
              "      <td>15.0</td>\n",
              "      <td>55.0</td>\n",
              "      <td>41.0</td>\n",
              "      <td>1010.2</td>\n",
              "      <td>1008.6</td>\n",
              "      <td>7.0</td>\n",
              "      <td>6.0</td>\n",
              "      <td>22.3</td>\n",
              "      <td>26.4</td>\n",
              "      <td>0</td>\n",
              "    </tr>\n",
              "    <tr>\n",
              "      <th>7</th>\n",
              "      <td>14.4</td>\n",
              "      <td>22.4</td>\n",
              "      <td>0.0</td>\n",
              "      <td>4.4</td>\n",
              "      <td>3.9</td>\n",
              "      <td>28.0</td>\n",
              "      <td>9.0</td>\n",
              "      <td>11.0</td>\n",
              "      <td>57.0</td>\n",
              "      <td>51.0</td>\n",
              "      <td>1022.6</td>\n",
              "      <td>1020.7</td>\n",
              "      <td>7.0</td>\n",
              "      <td>7.0</td>\n",
              "      <td>18.3</td>\n",
              "      <td>20.9</td>\n",
              "      <td>0</td>\n",
              "    </tr>\n",
              "    <tr>\n",
              "      <th>8</th>\n",
              "      <td>20.3</td>\n",
              "      <td>33.7</td>\n",
              "      <td>0.0</td>\n",
              "      <td>11.8</td>\n",
              "      <td>11.1</td>\n",
              "      <td>52.0</td>\n",
              "      <td>20.0</td>\n",
              "      <td>24.0</td>\n",
              "      <td>54.0</td>\n",
              "      <td>33.0</td>\n",
              "      <td>1007.7</td>\n",
              "      <td>1005.6</td>\n",
              "      <td>5.0</td>\n",
              "      <td>5.0</td>\n",
              "      <td>24.6</td>\n",
              "      <td>32.2</td>\n",
              "      <td>0</td>\n",
              "    </tr>\n",
              "    <tr>\n",
              "      <th>10</th>\n",
              "      <td>8.1</td>\n",
              "      <td>18.2</td>\n",
              "      <td>0.0</td>\n",
              "      <td>1.6</td>\n",
              "      <td>5.1</td>\n",
              "      <td>31.0</td>\n",
              "      <td>11.0</td>\n",
              "      <td>15.0</td>\n",
              "      <td>94.0</td>\n",
              "      <td>48.0</td>\n",
              "      <td>1027.1</td>\n",
              "      <td>1024.5</td>\n",
              "      <td>7.0</td>\n",
              "      <td>7.0</td>\n",
              "      <td>10.3</td>\n",
              "      <td>17.7</td>\n",
              "      <td>0</td>\n",
              "    </tr>\n",
              "  </tbody>\n",
              "</table>\n",
              "</div>"
            ],
            "text/plain": [
              "    SuhuMin  SuhuMax  Hujan  ...  Suhu9am  Suhu3pm  BersaljuHariIni\n",
              "2       9.2     27.2    0.0  ...     13.9     26.3                0\n",
              "3      17.7     27.0    0.0  ...     22.3     26.4                0\n",
              "7      14.4     22.4    0.0  ...     18.3     20.9                0\n",
              "8      20.3     33.7    0.0  ...     24.6     32.2                0\n",
              "10      8.1     18.2    0.0  ...     10.3     17.7                0\n",
              "\n",
              "[5 rows x 17 columns]"
            ]
          },
          "metadata": {
            "tags": []
          },
          "execution_count": 18
        }
      ]
    },
    {
      "cell_type": "code",
      "metadata": {
        "colab": {
          "base_uri": "https://localhost:8080/"
        },
        "id": "8Jh01S4oSxn_",
        "outputId": "860dd87c-9bf4-4e34-bdce-1134c53f4d81"
      },
      "source": [
        "from sklearn.preprocessing import MinMaxScaler\n",
        "\n",
        "nd_datatest = MinMaxScaler(feature_range=(0,1)).fit_transform(testdata)\n",
        "nd_datatest"
      ],
      "execution_count": 19,
      "outputs": [
        {
          "output_type": "execute_result",
          "data": {
            "text/plain": [
              "array([[0.40524781, 0.48267327, 0.        , ..., 0.35849057, 0.52058111,\n",
              "        0.        ],\n",
              "       [0.65306122, 0.47772277, 0.        , ..., 0.58490566, 0.52300242,\n",
              "        0.        ],\n",
              "       [0.55685131, 0.36386139, 0.        , ..., 0.47708895, 0.38983051,\n",
              "        0.        ],\n",
              "       ...,\n",
              "       [0.36443149, 0.4480198 , 0.        , ..., 0.43665768, 0.46489104,\n",
              "        0.        ],\n",
              "       [0.49854227, 0.46782178, 0.        , ..., 0.44474394, 0.50605327,\n",
              "        0.        ],\n",
              "       [0.50145773, 0.47029703, 0.        , ..., 0.60107817, 0.49878935,\n",
              "        0.        ]])"
            ]
          },
          "metadata": {
            "tags": []
          },
          "execution_count": 19
        }
      ]
    },
    {
      "cell_type": "code",
      "metadata": {
        "colab": {
          "base_uri": "https://localhost:8080/"
        },
        "id": "Pzxl4HgoSxn_",
        "outputId": "cc0518fb-6eef-4db0-9c20-e7166e19128e"
      },
      "source": [
        "nd_datatest.shape"
      ],
      "execution_count": 20,
      "outputs": [
        {
          "output_type": "execute_result",
          "data": {
            "text/plain": [
              "(7225, 17)"
            ]
          },
          "metadata": {
            "tags": []
          },
          "execution_count": 20
        }
      ]
    },
    {
      "cell_type": "markdown",
      "metadata": {
        "id": "YVyMNg3kSWP9"
      },
      "source": [
        "### Train"
      ]
    },
    {
      "cell_type": "code",
      "metadata": {
        "colab": {
          "base_uri": "https://localhost:8080/",
          "height": 224
        },
        "id": "bmKCj0_Ylfap",
        "outputId": "11ab6224-27fd-46f4-83d7-6db5dda9cae6"
      },
      "source": [
        "d = {'Ya': 1, 'Tidak': 0}\n",
        "datatrain['BersaljuHariIni'] = datatrain['BersaljuHariIni'].map(d)\n",
        "datatrain['BersaljuBesok'] = datatrain['BersaljuBesok'].map(d)\n",
        "datatrain.head()\n"
      ],
      "execution_count": 21,
      "outputs": [
        {
          "output_type": "execute_result",
          "data": {
            "text/html": [
              "<div>\n",
              "<style scoped>\n",
              "    .dataframe tbody tr th:only-of-type {\n",
              "        vertical-align: middle;\n",
              "    }\n",
              "\n",
              "    .dataframe tbody tr th {\n",
              "        vertical-align: top;\n",
              "    }\n",
              "\n",
              "    .dataframe thead th {\n",
              "        text-align: right;\n",
              "    }\n",
              "</style>\n",
              "<table border=\"1\" class=\"dataframe\">\n",
              "  <thead>\n",
              "    <tr style=\"text-align: right;\">\n",
              "      <th></th>\n",
              "      <th>SuhuMin</th>\n",
              "      <th>SuhuMax</th>\n",
              "      <th>Hujan</th>\n",
              "      <th>Penguapan</th>\n",
              "      <th>SinarMatahari</th>\n",
              "      <th>KecepatanAnginTerkencang</th>\n",
              "      <th>KecepatanAngin9am</th>\n",
              "      <th>KecepatanAngin3pm</th>\n",
              "      <th>Kelembaban9am</th>\n",
              "      <th>Kelembaban3pm</th>\n",
              "      <th>Tekanan9am</th>\n",
              "      <th>Tekanan3pm</th>\n",
              "      <th>Awan9am</th>\n",
              "      <th>Awan3pm</th>\n",
              "      <th>Suhu9am</th>\n",
              "      <th>Suhu3pm</th>\n",
              "      <th>BersaljuHariIni</th>\n",
              "      <th>BersaljuBesok</th>\n",
              "    </tr>\n",
              "  </thead>\n",
              "  <tbody>\n",
              "    <tr>\n",
              "      <th>3</th>\n",
              "      <td>7.3</td>\n",
              "      <td>24.5</td>\n",
              "      <td>0.0</td>\n",
              "      <td>8.4</td>\n",
              "      <td>10.4</td>\n",
              "      <td>54.0</td>\n",
              "      <td>13.0</td>\n",
              "      <td>19.0</td>\n",
              "      <td>25.0</td>\n",
              "      <td>17.0</td>\n",
              "      <td>1019.2</td>\n",
              "      <td>1016.9</td>\n",
              "      <td>1.0</td>\n",
              "      <td>7.0</td>\n",
              "      <td>15.3</td>\n",
              "      <td>23.2</td>\n",
              "      <td>0</td>\n",
              "      <td>0</td>\n",
              "    </tr>\n",
              "    <tr>\n",
              "      <th>4</th>\n",
              "      <td>5.9</td>\n",
              "      <td>20.3</td>\n",
              "      <td>0.0</td>\n",
              "      <td>3.6</td>\n",
              "      <td>12.6</td>\n",
              "      <td>37.0</td>\n",
              "      <td>22.0</td>\n",
              "      <td>19.0</td>\n",
              "      <td>55.0</td>\n",
              "      <td>48.0</td>\n",
              "      <td>1019.7</td>\n",
              "      <td>1014.7</td>\n",
              "      <td>2.0</td>\n",
              "      <td>6.0</td>\n",
              "      <td>12.4</td>\n",
              "      <td>18.1</td>\n",
              "      <td>0</td>\n",
              "      <td>0</td>\n",
              "    </tr>\n",
              "    <tr>\n",
              "      <th>5</th>\n",
              "      <td>14.4</td>\n",
              "      <td>21.8</td>\n",
              "      <td>0.0</td>\n",
              "      <td>3.2</td>\n",
              "      <td>4.4</td>\n",
              "      <td>39.0</td>\n",
              "      <td>19.0</td>\n",
              "      <td>20.0</td>\n",
              "      <td>63.0</td>\n",
              "      <td>52.0</td>\n",
              "      <td>1016.1</td>\n",
              "      <td>1012.5</td>\n",
              "      <td>7.0</td>\n",
              "      <td>7.0</td>\n",
              "      <td>16.7</td>\n",
              "      <td>21.1</td>\n",
              "      <td>0</td>\n",
              "      <td>0</td>\n",
              "    </tr>\n",
              "    <tr>\n",
              "      <th>6</th>\n",
              "      <td>7.7</td>\n",
              "      <td>18.7</td>\n",
              "      <td>0.2</td>\n",
              "      <td>5.6</td>\n",
              "      <td>9.7</td>\n",
              "      <td>46.0</td>\n",
              "      <td>19.0</td>\n",
              "      <td>28.0</td>\n",
              "      <td>69.0</td>\n",
              "      <td>31.0</td>\n",
              "      <td>1011.3</td>\n",
              "      <td>1008.8</td>\n",
              "      <td>1.0</td>\n",
              "      <td>1.0</td>\n",
              "      <td>11.3</td>\n",
              "      <td>18.3</td>\n",
              "      <td>0</td>\n",
              "      <td>0</td>\n",
              "    </tr>\n",
              "    <tr>\n",
              "      <th>8</th>\n",
              "      <td>18.4</td>\n",
              "      <td>35.3</td>\n",
              "      <td>0.0</td>\n",
              "      <td>10.0</td>\n",
              "      <td>12.5</td>\n",
              "      <td>33.0</td>\n",
              "      <td>11.0</td>\n",
              "      <td>13.0</td>\n",
              "      <td>44.0</td>\n",
              "      <td>18.0</td>\n",
              "      <td>1017.9</td>\n",
              "      <td>1013.4</td>\n",
              "      <td>0.0</td>\n",
              "      <td>0.0</td>\n",
              "      <td>23.7</td>\n",
              "      <td>34.9</td>\n",
              "      <td>0</td>\n",
              "      <td>0</td>\n",
              "    </tr>\n",
              "  </tbody>\n",
              "</table>\n",
              "</div>"
            ],
            "text/plain": [
              "   SuhuMin  SuhuMax  Hujan  ...  Suhu3pm  BersaljuHariIni  BersaljuBesok\n",
              "3      7.3     24.5    0.0  ...     23.2                0              0\n",
              "4      5.9     20.3    0.0  ...     18.1                0              0\n",
              "5     14.4     21.8    0.0  ...     21.1                0              0\n",
              "6      7.7     18.7    0.2  ...     18.3                0              0\n",
              "8     18.4     35.3    0.0  ...     34.9                0              0\n",
              "\n",
              "[5 rows x 18 columns]"
            ]
          },
          "metadata": {
            "tags": []
          },
          "execution_count": 21
        }
      ]
    },
    {
      "cell_type": "code",
      "metadata": {
        "colab": {
          "base_uri": "https://localhost:8080/",
          "height": 204
        },
        "id": "PiCgMOZUES-1",
        "outputId": "ee128484-cfba-4be8-86c9-70a7fa6d1e9f"
      },
      "source": [
        "# Split Data Train (label)\n",
        "traintarget = datatrain.iloc[:,[17]]\n",
        "traintarget.head()"
      ],
      "execution_count": 22,
      "outputs": [
        {
          "output_type": "execute_result",
          "data": {
            "text/html": [
              "<div>\n",
              "<style scoped>\n",
              "    .dataframe tbody tr th:only-of-type {\n",
              "        vertical-align: middle;\n",
              "    }\n",
              "\n",
              "    .dataframe tbody tr th {\n",
              "        vertical-align: top;\n",
              "    }\n",
              "\n",
              "    .dataframe thead th {\n",
              "        text-align: right;\n",
              "    }\n",
              "</style>\n",
              "<table border=\"1\" class=\"dataframe\">\n",
              "  <thead>\n",
              "    <tr style=\"text-align: right;\">\n",
              "      <th></th>\n",
              "      <th>BersaljuBesok</th>\n",
              "    </tr>\n",
              "  </thead>\n",
              "  <tbody>\n",
              "    <tr>\n",
              "      <th>3</th>\n",
              "      <td>0</td>\n",
              "    </tr>\n",
              "    <tr>\n",
              "      <th>4</th>\n",
              "      <td>0</td>\n",
              "    </tr>\n",
              "    <tr>\n",
              "      <th>5</th>\n",
              "      <td>0</td>\n",
              "    </tr>\n",
              "    <tr>\n",
              "      <th>6</th>\n",
              "      <td>0</td>\n",
              "    </tr>\n",
              "    <tr>\n",
              "      <th>8</th>\n",
              "      <td>0</td>\n",
              "    </tr>\n",
              "  </tbody>\n",
              "</table>\n",
              "</div>"
            ],
            "text/plain": [
              "   BersaljuBesok\n",
              "3              0\n",
              "4              0\n",
              "5              0\n",
              "6              0\n",
              "8              0"
            ]
          },
          "metadata": {
            "tags": []
          },
          "execution_count": 22
        }
      ]
    },
    {
      "cell_type": "code",
      "metadata": {
        "colab": {
          "base_uri": "https://localhost:8080/",
          "height": 224
        },
        "id": "TOJygMQaFSzp",
        "outputId": "5c9a311e-2c39-46ac-ac33-884dd8da9802"
      },
      "source": [
        "# Split Data Train (fitur)\n",
        "traindata = datatrain.iloc[:,[0,1,2,3,4,5,6,7,8,9,10,11,12,13,14,15,16]]\n",
        "traindata.head()"
      ],
      "execution_count": 23,
      "outputs": [
        {
          "output_type": "execute_result",
          "data": {
            "text/html": [
              "<div>\n",
              "<style scoped>\n",
              "    .dataframe tbody tr th:only-of-type {\n",
              "        vertical-align: middle;\n",
              "    }\n",
              "\n",
              "    .dataframe tbody tr th {\n",
              "        vertical-align: top;\n",
              "    }\n",
              "\n",
              "    .dataframe thead th {\n",
              "        text-align: right;\n",
              "    }\n",
              "</style>\n",
              "<table border=\"1\" class=\"dataframe\">\n",
              "  <thead>\n",
              "    <tr style=\"text-align: right;\">\n",
              "      <th></th>\n",
              "      <th>SuhuMin</th>\n",
              "      <th>SuhuMax</th>\n",
              "      <th>Hujan</th>\n",
              "      <th>Penguapan</th>\n",
              "      <th>SinarMatahari</th>\n",
              "      <th>KecepatanAnginTerkencang</th>\n",
              "      <th>KecepatanAngin9am</th>\n",
              "      <th>KecepatanAngin3pm</th>\n",
              "      <th>Kelembaban9am</th>\n",
              "      <th>Kelembaban3pm</th>\n",
              "      <th>Tekanan9am</th>\n",
              "      <th>Tekanan3pm</th>\n",
              "      <th>Awan9am</th>\n",
              "      <th>Awan3pm</th>\n",
              "      <th>Suhu9am</th>\n",
              "      <th>Suhu3pm</th>\n",
              "      <th>BersaljuHariIni</th>\n",
              "    </tr>\n",
              "  </thead>\n",
              "  <tbody>\n",
              "    <tr>\n",
              "      <th>3</th>\n",
              "      <td>7.3</td>\n",
              "      <td>24.5</td>\n",
              "      <td>0.0</td>\n",
              "      <td>8.4</td>\n",
              "      <td>10.4</td>\n",
              "      <td>54.0</td>\n",
              "      <td>13.0</td>\n",
              "      <td>19.0</td>\n",
              "      <td>25.0</td>\n",
              "      <td>17.0</td>\n",
              "      <td>1019.2</td>\n",
              "      <td>1016.9</td>\n",
              "      <td>1.0</td>\n",
              "      <td>7.0</td>\n",
              "      <td>15.3</td>\n",
              "      <td>23.2</td>\n",
              "      <td>0</td>\n",
              "    </tr>\n",
              "    <tr>\n",
              "      <th>4</th>\n",
              "      <td>5.9</td>\n",
              "      <td>20.3</td>\n",
              "      <td>0.0</td>\n",
              "      <td>3.6</td>\n",
              "      <td>12.6</td>\n",
              "      <td>37.0</td>\n",
              "      <td>22.0</td>\n",
              "      <td>19.0</td>\n",
              "      <td>55.0</td>\n",
              "      <td>48.0</td>\n",
              "      <td>1019.7</td>\n",
              "      <td>1014.7</td>\n",
              "      <td>2.0</td>\n",
              "      <td>6.0</td>\n",
              "      <td>12.4</td>\n",
              "      <td>18.1</td>\n",
              "      <td>0</td>\n",
              "    </tr>\n",
              "    <tr>\n",
              "      <th>5</th>\n",
              "      <td>14.4</td>\n",
              "      <td>21.8</td>\n",
              "      <td>0.0</td>\n",
              "      <td>3.2</td>\n",
              "      <td>4.4</td>\n",
              "      <td>39.0</td>\n",
              "      <td>19.0</td>\n",
              "      <td>20.0</td>\n",
              "      <td>63.0</td>\n",
              "      <td>52.0</td>\n",
              "      <td>1016.1</td>\n",
              "      <td>1012.5</td>\n",
              "      <td>7.0</td>\n",
              "      <td>7.0</td>\n",
              "      <td>16.7</td>\n",
              "      <td>21.1</td>\n",
              "      <td>0</td>\n",
              "    </tr>\n",
              "    <tr>\n",
              "      <th>6</th>\n",
              "      <td>7.7</td>\n",
              "      <td>18.7</td>\n",
              "      <td>0.2</td>\n",
              "      <td>5.6</td>\n",
              "      <td>9.7</td>\n",
              "      <td>46.0</td>\n",
              "      <td>19.0</td>\n",
              "      <td>28.0</td>\n",
              "      <td>69.0</td>\n",
              "      <td>31.0</td>\n",
              "      <td>1011.3</td>\n",
              "      <td>1008.8</td>\n",
              "      <td>1.0</td>\n",
              "      <td>1.0</td>\n",
              "      <td>11.3</td>\n",
              "      <td>18.3</td>\n",
              "      <td>0</td>\n",
              "    </tr>\n",
              "    <tr>\n",
              "      <th>8</th>\n",
              "      <td>18.4</td>\n",
              "      <td>35.3</td>\n",
              "      <td>0.0</td>\n",
              "      <td>10.0</td>\n",
              "      <td>12.5</td>\n",
              "      <td>33.0</td>\n",
              "      <td>11.0</td>\n",
              "      <td>13.0</td>\n",
              "      <td>44.0</td>\n",
              "      <td>18.0</td>\n",
              "      <td>1017.9</td>\n",
              "      <td>1013.4</td>\n",
              "      <td>0.0</td>\n",
              "      <td>0.0</td>\n",
              "      <td>23.7</td>\n",
              "      <td>34.9</td>\n",
              "      <td>0</td>\n",
              "    </tr>\n",
              "  </tbody>\n",
              "</table>\n",
              "</div>"
            ],
            "text/plain": [
              "   SuhuMin  SuhuMax  Hujan  ...  Suhu9am  Suhu3pm  BersaljuHariIni\n",
              "3      7.3     24.5    0.0  ...     15.3     23.2                0\n",
              "4      5.9     20.3    0.0  ...     12.4     18.1                0\n",
              "5     14.4     21.8    0.0  ...     16.7     21.1                0\n",
              "6      7.7     18.7    0.2  ...     11.3     18.3                0\n",
              "8     18.4     35.3    0.0  ...     23.7     34.9                0\n",
              "\n",
              "[5 rows x 17 columns]"
            ]
          },
          "metadata": {
            "tags": []
          },
          "execution_count": 23
        }
      ]
    },
    {
      "cell_type": "code",
      "metadata": {
        "colab": {
          "base_uri": "https://localhost:8080/"
        },
        "id": "1uBHJKbQt7AP",
        "outputId": "3eeab408-9f6d-4226-9cf2-d798a792d340"
      },
      "source": [
        "from sklearn.preprocessing import MinMaxScaler\n",
        "\n",
        "nd_datatrain = MinMaxScaler(feature_range=(0,1)).fit_transform(traindata)\n",
        "nd_datatrain"
      ],
      "execution_count": 24,
      "outputs": [
        {
          "output_type": "execute_result",
          "data": {
            "text/plain": [
              "array([[0.37634409, 0.44390244, 0.        , ..., 0.39900249, 0.45215311,\n",
              "        0.        ],\n",
              "       [0.33870968, 0.34146341, 0.        , ..., 0.32668329, 0.33014354,\n",
              "        0.        ],\n",
              "       [0.5672043 , 0.37804878, 0.        , ..., 0.43391521, 0.40191388,\n",
              "        0.        ],\n",
              "       ...,\n",
              "       [0.56451613, 0.48536585, 0.        , ..., 0.5436409 , 0.50717703,\n",
              "        0.        ],\n",
              "       [0.72043011, 0.42439024, 0.        , ..., 0.56608479, 0.42583732,\n",
              "        0.        ],\n",
              "       [0.47043011, 0.57317073, 0.        , ..., 0.55860349, 0.59569378,\n",
              "        0.        ]])"
            ]
          },
          "metadata": {
            "tags": []
          },
          "execution_count": 24
        }
      ]
    },
    {
      "cell_type": "code",
      "metadata": {
        "colab": {
          "base_uri": "https://localhost:8080/"
        },
        "id": "coRjfoR-wjUb",
        "outputId": "0a992674-6963-4a91-fda5-cf7de3fdc004"
      },
      "source": [
        "nd_datatrain.shape"
      ],
      "execution_count": 25,
      "outputs": [
        {
          "output_type": "execute_result",
          "data": {
            "text/plain": [
              "(43677, 17)"
            ]
          },
          "metadata": {
            "tags": []
          },
          "execution_count": 25
        }
      ]
    },
    {
      "cell_type": "markdown",
      "metadata": {
        "id": "AIeCxJsJIPm9"
      },
      "source": [
        "## Export Data\n",
        "melakukan export dataset hasil preprocessing"
      ]
    },
    {
      "cell_type": "code",
      "metadata": {
        "colab": {
          "base_uri": "https://localhost:8080/"
        },
        "id": "r07eQAgZIWG0",
        "outputId": "d0665e1f-cc42-4ee9-ac7e-abc82a97106d"
      },
      "source": [
        "# Mounting Drive\n",
        "from google.colab import drive\n",
        "drive.mount('drive', force_remount=True)"
      ],
      "execution_count": 30,
      "outputs": [
        {
          "output_type": "stream",
          "text": [
            "Mounted at drive\n"
          ],
          "name": "stdout"
        }
      ]
    },
    {
      "cell_type": "code",
      "metadata": {
        "id": "brmlmuXfJjJs"
      },
      "source": [
        "datatrain.to_csv('data_percobaan2.csv')\n",
        "!cp data_percobaan2.csv \"drive/My Drive/\""
      ],
      "execution_count": 32,
      "outputs": []
    },
    {
      "cell_type": "markdown",
      "metadata": {
        "id": "jrOJtJ7-YzZZ"
      },
      "source": [
        "# Klasifikasi\n"
      ]
    },
    {
      "cell_type": "markdown",
      "metadata": {
        "id": "yuwT4x8zY87d"
      },
      "source": [
        "## (1) Naive Bayes"
      ]
    },
    {
      "cell_type": "code",
      "metadata": {
        "id": "eVKkPwHiDBCj"
      },
      "source": [
        "from sklearn.naive_bayes import GaussianNB\n",
        "\n",
        "classNB = GaussianNB()\n",
        "classNB.fit(nd_datatrain,traintarget)\n",
        "NB_predict = classNB.predict(nd_datatest)\n"
      ],
      "execution_count": null,
      "outputs": []
    },
    {
      "cell_type": "markdown",
      "metadata": {
        "id": "Atuec66YZEzl"
      },
      "source": [
        "## (2) Support Vector Machine"
      ]
    },
    {
      "cell_type": "code",
      "metadata": {
        "id": "O6RE8WNmkCga"
      },
      "source": [
        "from sklearn import svm\n",
        "\n",
        "classSVM = svm.SVC(kernel='linear') # Linear Kernel\n",
        "classSVM.fit(nd_datatrain, traintarget)\n",
        "SVM_predict = classSVM.predict(nd_datatest)"
      ],
      "execution_count": null,
      "outputs": []
    },
    {
      "cell_type": "markdown",
      "metadata": {
        "id": "jztm9H5nZE4H"
      },
      "source": [
        "## (3) KNN"
      ]
    },
    {
      "cell_type": "code",
      "metadata": {
        "id": "XjQuTOWLlN3g"
      },
      "source": [
        "from sklearn.neighbors import KNeighborsClassifier\n",
        "\n",
        "classKNN = KNeighborsClassifier(n_neighbors=5)\n",
        "classKNN.fit(nd_datatrain, traintarget)\n",
        "KNN_predict = classKNN.predict(nd_datatest)"
      ],
      "execution_count": null,
      "outputs": []
    },
    {
      "cell_type": "markdown",
      "metadata": {
        "id": "SFK8zVNsRtmz"
      },
      "source": [
        "## (4) Logistic Regression"
      ]
    },
    {
      "cell_type": "code",
      "metadata": {
        "id": "vBD6d-aCRtm3"
      },
      "source": [
        "from sklearn.linear_model import LogisticRegression\n",
        "\n",
        "classLR = LogisticRegression()\n",
        "classLR.fit(nd_datatrain, traintarget)\n",
        "LR_predict = classLR.predict(nd_datatest)"
      ],
      "execution_count": null,
      "outputs": []
    },
    {
      "cell_type": "markdown",
      "metadata": {
        "id": "bLgQDKLVU8_y"
      },
      "source": [
        "## (5) Decision Tree"
      ]
    },
    {
      "cell_type": "code",
      "metadata": {
        "id": "bnlcdkjbU8_2"
      },
      "source": [
        "from sklearn.tree import DecisionTreeClassifier\n",
        "\n",
        "classDT = DecisionTreeClassifier()\n",
        "classDT.fit(nd_datatrain, traintarget)\n",
        "DT_predict = classDT.predict(nd_datatest)"
      ],
      "execution_count": null,
      "outputs": []
    },
    {
      "cell_type": "markdown",
      "metadata": {
        "id": "NJXs5x7KaRE8"
      },
      "source": [
        "## (6) Random Forest"
      ]
    },
    {
      "cell_type": "code",
      "metadata": {
        "id": "yvBbNEVXaRE_"
      },
      "source": [
        "from sklearn.ensemble import RandomForestClassifier\n",
        "\n",
        "classRF = RandomForestClassifier()\n",
        "classRF.fit(nd_datatrain, traintarget)\n",
        "RF_predict = classRF.predict(nd_datatest)"
      ],
      "execution_count": null,
      "outputs": []
    },
    {
      "cell_type": "markdown",
      "metadata": {
        "id": "ITtXgiEaY2Ob"
      },
      "source": [
        "# Evaluasi"
      ]
    },
    {
      "cell_type": "markdown",
      "metadata": {
        "id": "oFRM7dxnLiSZ"
      },
      "source": [
        "## Akurasi, Confusion Matrix, dan Laporan Klasifikasi"
      ]
    },
    {
      "cell_type": "code",
      "metadata": {
        "id": "vXuZ2utrY6NY"
      },
      "source": [
        "arr_akurasi = []"
      ],
      "execution_count": null,
      "outputs": []
    },
    {
      "cell_type": "code",
      "metadata": {
        "colab": {
          "base_uri": "https://localhost:8080/"
        },
        "id": "7fPqpu3YhWIU",
        "outputId": "c8697e60-1bac-4ff1-8a1a-f090810f7167"
      },
      "source": [
        "# Naive Bayes\n",
        "\n",
        "from sklearn import metrics\n",
        "acc = metrics.accuracy_score(testtarget, NB_predict)\n",
        "confmatrix = metrics.confusion_matrix(testtarget, NB_predict)\n",
        "classreport = metrics.classification_report(testtarget, NB_predict)\n",
        "\n",
        "arr_akurasi.append(acc)\n",
        "\n",
        "print(\"Accuracy:\", acc)\n",
        "print(\"\\nConfusion Matrix:\\n\",confmatrix)\n",
        "print(\"\\nClassification Report:\\n\",classreport)"
      ],
      "execution_count": null,
      "outputs": [
        {
          "output_type": "stream",
          "text": [
            "Accuracy: 0.7861591695501731\n",
            "\n",
            "Confusion Matrix:\n",
            " [[4469 1120]\n",
            " [ 425 1211]]\n",
            "\n",
            "Classification Report:\n",
            "               precision    recall  f1-score   support\n",
            "\n",
            "           0       0.91      0.80      0.85      5589\n",
            "           1       0.52      0.74      0.61      1636\n",
            "\n",
            "    accuracy                           0.79      7225\n",
            "   macro avg       0.72      0.77      0.73      7225\n",
            "weighted avg       0.82      0.79      0.80      7225\n",
            "\n"
          ],
          "name": "stdout"
        }
      ]
    },
    {
      "cell_type": "code",
      "metadata": {
        "colab": {
          "base_uri": "https://localhost:8080/"
        },
        "id": "DS-gMdl0kFhD",
        "outputId": "bdb0eed1-7b33-48c4-9eb2-6eb0e858881f"
      },
      "source": [
        "# Support Vector Machine\n",
        "\n",
        "acc = metrics.accuracy_score(testtarget, SVM_predict)\n",
        "confmatrix = metrics.confusion_matrix(testtarget, SVM_predict)\n",
        "classreport = metrics.classification_report(testtarget, SVM_predict)\n",
        "\n",
        "arr_akurasi.append(acc)\n",
        "\n",
        "print(\"Accuracy:\", acc)\n",
        "print(\"\\nConfusion Matrix:\\n\",confmatrix)\n",
        "print(\"\\nClassification Report:\\n\",classreport)"
      ],
      "execution_count": null,
      "outputs": [
        {
          "output_type": "stream",
          "text": [
            "Accuracy: 0.8535640138408305\n",
            "\n",
            "Confusion Matrix:\n",
            " [[5145  444]\n",
            " [ 614 1022]]\n",
            "\n",
            "Classification Report:\n",
            "               precision    recall  f1-score   support\n",
            "\n",
            "           0       0.89      0.92      0.91      5589\n",
            "           1       0.70      0.62      0.66      1636\n",
            "\n",
            "    accuracy                           0.85      7225\n",
            "   macro avg       0.80      0.77      0.78      7225\n",
            "weighted avg       0.85      0.85      0.85      7225\n",
            "\n"
          ],
          "name": "stdout"
        }
      ]
    },
    {
      "cell_type": "code",
      "metadata": {
        "colab": {
          "base_uri": "https://localhost:8080/"
        },
        "id": "CMwrsNljiH34",
        "outputId": "4d25be16-0dcf-4da9-813a-20bcb500845d"
      },
      "source": [
        "# KNN\n",
        "\n",
        "acc = metrics.accuracy_score(testtarget, KNN_predict)\n",
        "confmatrix = metrics.confusion_matrix(testtarget, KNN_predict)\n",
        "classreport = metrics.classification_report(testtarget, KNN_predict)\n",
        "\n",
        "arr_akurasi.append(acc)\n",
        "\n",
        "print(\"Accuracy:\", acc)\n",
        "print(\"\\nConfusion Matrix:\\n\",confmatrix)\n",
        "print(\"\\nClassification Report:\\n\",classreport)"
      ],
      "execution_count": null,
      "outputs": [
        {
          "output_type": "stream",
          "text": [
            "Accuracy: 0.842076124567474\n",
            "\n",
            "Confusion Matrix:\n",
            " [[5140  449]\n",
            " [ 692  944]]\n",
            "\n",
            "Classification Report:\n",
            "               precision    recall  f1-score   support\n",
            "\n",
            "           0       0.88      0.92      0.90      5589\n",
            "           1       0.68      0.58      0.62      1636\n",
            "\n",
            "    accuracy                           0.84      7225\n",
            "   macro avg       0.78      0.75      0.76      7225\n",
            "weighted avg       0.84      0.84      0.84      7225\n",
            "\n"
          ],
          "name": "stdout"
        }
      ]
    },
    {
      "cell_type": "code",
      "metadata": {
        "colab": {
          "base_uri": "https://localhost:8080/"
        },
        "id": "qV-RsjSTSULr",
        "outputId": "be5bddbb-c00f-41d3-e66b-c2ef882d9181"
      },
      "source": [
        "# Logistic Regression\n",
        "\n",
        "acc = metrics.accuracy_score(testtarget, LR_predict)\n",
        "confmatrix = metrics.confusion_matrix(testtarget, LR_predict)\n",
        "classreport = metrics.classification_report(testtarget, LR_predict)\n",
        "\n",
        "arr_akurasi.append(acc)\n",
        "\n",
        "print(\"Accuracy:\", acc)\n",
        "print(\"\\nConfusion Matrix:\\n\",confmatrix)\n",
        "print(\"\\nClassification Report:\\n\",classreport)"
      ],
      "execution_count": null,
      "outputs": [
        {
          "output_type": "stream",
          "text": [
            "Accuracy: 0.8520415224913495\n",
            "\n",
            "Confusion Matrix:\n",
            " [[5107  482]\n",
            " [ 587 1049]]\n",
            "\n",
            "Classification Report:\n",
            "               precision    recall  f1-score   support\n",
            "\n",
            "           0       0.90      0.91      0.91      5589\n",
            "           1       0.69      0.64      0.66      1636\n",
            "\n",
            "    accuracy                           0.85      7225\n",
            "   macro avg       0.79      0.78      0.78      7225\n",
            "weighted avg       0.85      0.85      0.85      7225\n",
            "\n"
          ],
          "name": "stdout"
        }
      ]
    },
    {
      "cell_type": "code",
      "metadata": {
        "colab": {
          "base_uri": "https://localhost:8080/"
        },
        "id": "0ZIKEvVEVJQr",
        "outputId": "a0924472-d98b-4ea6-8520-b1334e4082d5"
      },
      "source": [
        "# Decision Tree\n",
        "\n",
        "acc = metrics.accuracy_score(testtarget, DT_predict)\n",
        "confmatrix = metrics.confusion_matrix(testtarget, DT_predict)\n",
        "classreport = metrics.classification_report(testtarget, DT_predict)\n",
        "\n",
        "arr_akurasi.append(acc)\n",
        "\n",
        "print(\"Accuracy:\", acc)\n",
        "print(\"\\nConfusion Matrix:\\n\",confmatrix)\n",
        "print(\"\\nClassification Report:\\n\",classreport)"
      ],
      "execution_count": null,
      "outputs": [
        {
          "output_type": "stream",
          "text": [
            "Accuracy: 0.7483737024221453\n",
            "\n",
            "Confusion Matrix:\n",
            " [[4433 1156]\n",
            " [ 662  974]]\n",
            "\n",
            "Classification Report:\n",
            "               precision    recall  f1-score   support\n",
            "\n",
            "           0       0.87      0.79      0.83      5589\n",
            "           1       0.46      0.60      0.52      1636\n",
            "\n",
            "    accuracy                           0.75      7225\n",
            "   macro avg       0.66      0.69      0.67      7225\n",
            "weighted avg       0.78      0.75      0.76      7225\n",
            "\n"
          ],
          "name": "stdout"
        }
      ]
    },
    {
      "cell_type": "code",
      "metadata": {
        "colab": {
          "base_uri": "https://localhost:8080/"
        },
        "id": "nHkqpDaXaqN1",
        "outputId": "00018fe8-d4c1-4217-8d71-076360fa9fe8"
      },
      "source": [
        "# Random Forest\n",
        "\n",
        "from sklearn import metrics\n",
        "acc = metrics.accuracy_score(testtarget, RF_predict)\n",
        "confmatrix = metrics.confusion_matrix(testtarget, RF_predict)\n",
        "classreport = metrics.classification_report(testtarget, RF_predict)\n",
        "\n",
        "arr_akurasi.append(acc)\n",
        "\n",
        "print(\"Accuracy:\", acc)\n",
        "print(\"\\nConfusion Matrix:\\n\",confmatrix)\n",
        "print(\"\\nClassification Report:\\n\",classreport)"
      ],
      "execution_count": null,
      "outputs": [
        {
          "output_type": "stream",
          "text": [
            "Accuracy: 0.8521799307958478\n",
            "\n",
            "Confusion Matrix:\n",
            " [[5166  423]\n",
            " [ 645  991]]\n",
            "\n",
            "Classification Report:\n",
            "               precision    recall  f1-score   support\n",
            "\n",
            "           0       0.89      0.92      0.91      5589\n",
            "           1       0.70      0.61      0.65      1636\n",
            "\n",
            "    accuracy                           0.85      7225\n",
            "   macro avg       0.79      0.77      0.78      7225\n",
            "weighted avg       0.85      0.85      0.85      7225\n",
            "\n"
          ],
          "name": "stdout"
        }
      ]
    },
    {
      "cell_type": "markdown",
      "metadata": {
        "id": "K4WykGjyLwW6"
      },
      "source": [
        "## Visualisasi Akurasi"
      ]
    },
    {
      "cell_type": "code",
      "metadata": {
        "id": "-bnMz5jWp13f"
      },
      "source": [
        "arr_metode = ['Naive\\n Bayes','SVM','KNN','Logistic\\n Regression','Decision Tree','Random\\n Forest']"
      ],
      "execution_count": null,
      "outputs": []
    },
    {
      "cell_type": "code",
      "metadata": {
        "colab": {
          "base_uri": "https://localhost:8080/",
          "height": 235
        },
        "id": "Vp9YM80Dhfo2",
        "outputId": "d7c3b6b5-8185-4c26-f6ad-732a02546723"
      },
      "source": [
        "df_akurasi = pd.DataFrame(arr_akurasi, columns=['akurasi'])\n",
        "df_akurasi['Metode']=arr_metode\n",
        "df_akurasi = df_akurasi.sort_values(by='akurasi', ascending=False)\n",
        "df_akurasi.reset_index(drop=True, inplace=True)\n",
        "df_akurasi"
      ],
      "execution_count": null,
      "outputs": [
        {
          "output_type": "execute_result",
          "data": {
            "text/html": [
              "<div>\n",
              "<style scoped>\n",
              "    .dataframe tbody tr th:only-of-type {\n",
              "        vertical-align: middle;\n",
              "    }\n",
              "\n",
              "    .dataframe tbody tr th {\n",
              "        vertical-align: top;\n",
              "    }\n",
              "\n",
              "    .dataframe thead th {\n",
              "        text-align: right;\n",
              "    }\n",
              "</style>\n",
              "<table border=\"1\" class=\"dataframe\">\n",
              "  <thead>\n",
              "    <tr style=\"text-align: right;\">\n",
              "      <th></th>\n",
              "      <th>akurasi</th>\n",
              "      <th>Metode</th>\n",
              "    </tr>\n",
              "  </thead>\n",
              "  <tbody>\n",
              "    <tr>\n",
              "      <th>0</th>\n",
              "      <td>0.853564</td>\n",
              "      <td>SVM</td>\n",
              "    </tr>\n",
              "    <tr>\n",
              "      <th>1</th>\n",
              "      <td>0.852180</td>\n",
              "      <td>Random\\n Forest</td>\n",
              "    </tr>\n",
              "    <tr>\n",
              "      <th>2</th>\n",
              "      <td>0.852042</td>\n",
              "      <td>Logistic\\n Regression</td>\n",
              "    </tr>\n",
              "    <tr>\n",
              "      <th>3</th>\n",
              "      <td>0.842076</td>\n",
              "      <td>KNN</td>\n",
              "    </tr>\n",
              "    <tr>\n",
              "      <th>4</th>\n",
              "      <td>0.786159</td>\n",
              "      <td>Naive\\n Bayes</td>\n",
              "    </tr>\n",
              "    <tr>\n",
              "      <th>5</th>\n",
              "      <td>0.748374</td>\n",
              "      <td>Decision Tree</td>\n",
              "    </tr>\n",
              "  </tbody>\n",
              "</table>\n",
              "</div>"
            ],
            "text/plain": [
              "    akurasi                 Metode\n",
              "0  0.853564                    SVM\n",
              "1  0.852180        Random\\n Forest\n",
              "2  0.852042  Logistic\\n Regression\n",
              "3  0.842076                    KNN\n",
              "4  0.786159          Naive\\n Bayes\n",
              "5  0.748374          Decision Tree"
            ]
          },
          "metadata": {
            "tags": []
          },
          "execution_count": 157
        }
      ]
    },
    {
      "cell_type": "code",
      "metadata": {
        "colab": {
          "base_uri": "https://localhost:8080/",
          "height": 291
        },
        "id": "JVrJ6-qDLzfx",
        "outputId": "b3b9a686-17d0-4a79-f90e-98e05fb9ee37"
      },
      "source": [
        "# Akurasi\n",
        "ac = sns.barplot(data=df_akurasi, x='Metode',y='akurasi',palette = \"Blues\")\n",
        "\n",
        "for index, row in df_akurasi.iterrows():\n",
        "    ac.text(row.name,row.akurasi, str(round(row.akurasi,4)), color='black', ha=\"center\")"
      ],
      "execution_count": null,
      "outputs": [
        {
          "output_type": "display_data",
          "data": {
            "image/png": "[encoded data removed]",
            "text/plain": [
              "<Figure size 432x288 with 1 Axes>"
            ]
          },
          "metadata": {
            "tags": [],
            "needs_background": "light"
          }
        }
      ]
    }
  ]
}