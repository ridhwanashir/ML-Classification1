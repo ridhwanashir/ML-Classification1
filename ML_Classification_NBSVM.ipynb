{
  "nbformat": 4,
  "nbformat_minor": 0,
  "metadata": {
    "colab": {
      "name": "ML_Classification NBSVM.ipynb",
      "provenance": [],
      "collapsed_sections": [],
      "toc_visible": true
    },
    "kernelspec": {
      "name": "python3",
      "display_name": "Python 3"
    },
    "language_info": {
      "name": "python"
    }
  },
  "cells": [
    {
      "cell_type": "markdown",
      "metadata": {
        "id": "4jX0ZtQyx8gx"
      },
      "source": [
        "Ridhwan Nashir - 1301184259 - IF42-01\n",
        "# **Tugas Besar Machine Learning 2 Classification**\n",
        "\n",
        "Pada tugas klasifikasi ini metode yang digunakan menggunakan Naive Bayes-Support Vector Machine (NBSVM). Metode klasifikasi ini merupakan gabungan dari metode Naive Bayes dan Support Vector Machine. \n",
        "\n",
        "Metode Naïve Bayes (NB) akan melakukan perhitungan dan menghasilkan sebuah feature vector yang kemudian digunakan sebagai input untuk proses perhitungan di metode Support Vector Machine (SVM).\n",
        "\n",
        "Pada notebook ini, akan dilakukan 3 percobaan yaitu :\n",
        "\n",
        "1. Klasifikasi menggunakan NB\n",
        "2. Klasifikasi menggunakan SVM\n",
        "3. Klasifikasi menggunakan NBSVM\n",
        "\n",
        "Hasil dari ketiga percobaan tersebut kemudian akan dibandingkan akurasinya."
      ]
    },
    {
      "cell_type": "code",
      "metadata": {
        "colab": {
          "base_uri": "https://localhost:8080/"
        },
        "id": "r0aSQisllJIV",
        "outputId": "3cab2010-8573-4130-d729-5570fda5abe4"
      },
      "source": [
        "!pip install nbsvm-sklearn\n"
      ],
      "execution_count": 48,
      "outputs": [
        {
          "output_type": "stream",
          "text": [
            "Requirement already satisfied: nbsvm-sklearn in /usr/local/lib/python3.7/dist-packages (0.0.6)\n",
            "Requirement already satisfied: numpy>=1.16.4 in /usr/local/lib/python3.7/dist-packages (from nbsvm-sklearn) (1.19.5)\n",
            "Requirement already satisfied: scikit-learn>=0.21.0 in /usr/local/lib/python3.7/dist-packages (from nbsvm-sklearn) (0.22.2.post1)\n",
            "Requirement already satisfied: scipy>=0.17.0 in /usr/local/lib/python3.7/dist-packages (from scikit-learn>=0.21.0->nbsvm-sklearn) (1.4.1)\n",
            "Requirement already satisfied: joblib>=0.11 in /usr/local/lib/python3.7/dist-packages (from scikit-learn>=0.21.0->nbsvm-sklearn) (1.0.1)\n"
          ],
          "name": "stdout"
        }
      ]
    },
    {
      "cell_type": "markdown",
      "metadata": {
        "id": "7i9BAgQJ6JdP"
      },
      "source": [
        "# Eksplorasi Data"
      ]
    },
    {
      "cell_type": "code",
      "metadata": {
        "id": "y--Jbg4nxvSM"
      },
      "source": [
        "# library\n",
        "import matplotlib.pyplot as plt\n",
        "import matplotlib as mpl\n",
        "import pandas as pd\n",
        "%matplotlib inline\n",
        "import numpy as np \n",
        "import seaborn as sns\n",
        "import warnings\n",
        "warnings.filterwarnings('ignore')"
      ],
      "execution_count": 49,
      "outputs": []
    },
    {
      "cell_type": "markdown",
      "metadata": {
        "id": "UgMTOxRqUs6G"
      },
      "source": [
        "## Data Test"
      ]
    },
    {
      "cell_type": "code",
      "metadata": {
        "colab": {
          "base_uri": "https://localhost:8080/",
          "height": 224
        },
        "id": "IboS_4eN4dK3",
        "outputId": "85f47adc-39df-4970-bd36-c1d5851cd3aa"
      },
      "source": [
        "# datatest\n",
        "url = 'https://raw.githubusercontent.com/ridhwanashir/ML-Classification-NBSVM/main/salju_test.csv'\n",
        "datatest = pd.read_csv(url) \n",
        "datatest.head()"
      ],
      "execution_count": 50,
      "outputs": [
        {
          "output_type": "execute_result",
          "data": {
            "text/html": [
              "<div>\n",
              "<style scoped>\n",
              "    .dataframe tbody tr th:only-of-type {\n",
              "        vertical-align: middle;\n",
              "    }\n",
              "\n",
              "    .dataframe tbody tr th {\n",
              "        vertical-align: top;\n",
              "    }\n",
              "\n",
              "    .dataframe thead th {\n",
              "        text-align: right;\n",
              "    }\n",
              "</style>\n",
              "<table border=\"1\" class=\"dataframe\">\n",
              "  <thead>\n",
              "    <tr style=\"text-align: right;\">\n",
              "      <th></th>\n",
              "      <th>Tanggal</th>\n",
              "      <th>KodeLokasi</th>\n",
              "      <th>SuhuMin</th>\n",
              "      <th>SuhuMax</th>\n",
              "      <th>Hujan</th>\n",
              "      <th>Penguapan</th>\n",
              "      <th>SinarMatahari</th>\n",
              "      <th>ArahAnginTerkencang</th>\n",
              "      <th>KecepatanAnginTerkencang</th>\n",
              "      <th>ArahAngin9am</th>\n",
              "      <th>ArahAngin3pm</th>\n",
              "      <th>KecepatanAngin9am</th>\n",
              "      <th>KecepatanAngin3pm</th>\n",
              "      <th>Kelembaban9am</th>\n",
              "      <th>Kelembaban3pm</th>\n",
              "      <th>Tekanan9am</th>\n",
              "      <th>Tekanan3pm</th>\n",
              "      <th>Awan9am</th>\n",
              "      <th>Awan3pm</th>\n",
              "      <th>Suhu9am</th>\n",
              "      <th>Suhu3pm</th>\n",
              "      <th>BersaljuHariIni</th>\n",
              "      <th>BersaljuBesok</th>\n",
              "    </tr>\n",
              "  </thead>\n",
              "  <tbody>\n",
              "    <tr>\n",
              "      <th>0</th>\n",
              "      <td>04/11/2010</td>\n",
              "      <td>C39</td>\n",
              "      <td>11.0</td>\n",
              "      <td>27.5</td>\n",
              "      <td>0.0</td>\n",
              "      <td>NaN</td>\n",
              "      <td>6.4</td>\n",
              "      <td>WSW</td>\n",
              "      <td>46.0</td>\n",
              "      <td>W</td>\n",
              "      <td>W</td>\n",
              "      <td>20.0</td>\n",
              "      <td>28.0</td>\n",
              "      <td>39.0</td>\n",
              "      <td>56.0</td>\n",
              "      <td>1013.0</td>\n",
              "      <td>1012.4</td>\n",
              "      <td>4.0</td>\n",
              "      <td>7.0</td>\n",
              "      <td>25.7</td>\n",
              "      <td>23.6</td>\n",
              "      <td>No</td>\n",
              "      <td>No</td>\n",
              "    </tr>\n",
              "    <tr>\n",
              "      <th>1</th>\n",
              "      <td>26/03/2015</td>\n",
              "      <td>C35</td>\n",
              "      <td>10.0</td>\n",
              "      <td>19.9</td>\n",
              "      <td>0.2</td>\n",
              "      <td>NaN</td>\n",
              "      <td>NaN</td>\n",
              "      <td>WNW</td>\n",
              "      <td>56.0</td>\n",
              "      <td>W</td>\n",
              "      <td>NW</td>\n",
              "      <td>24.0</td>\n",
              "      <td>33.0</td>\n",
              "      <td>76.0</td>\n",
              "      <td>32.0</td>\n",
              "      <td>1017.0</td>\n",
              "      <td>1015.2</td>\n",
              "      <td>8.0</td>\n",
              "      <td>1.0</td>\n",
              "      <td>10.7</td>\n",
              "      <td>18.9</td>\n",
              "      <td>No</td>\n",
              "      <td>Yes</td>\n",
              "    </tr>\n",
              "    <tr>\n",
              "      <th>2</th>\n",
              "      <td>22/03/2016</td>\n",
              "      <td>C18</td>\n",
              "      <td>9.2</td>\n",
              "      <td>27.2</td>\n",
              "      <td>0.0</td>\n",
              "      <td>5.2</td>\n",
              "      <td>10.4</td>\n",
              "      <td>SSW</td>\n",
              "      <td>33.0</td>\n",
              "      <td>NE</td>\n",
              "      <td>N</td>\n",
              "      <td>13.0</td>\n",
              "      <td>19.0</td>\n",
              "      <td>89.0</td>\n",
              "      <td>27.0</td>\n",
              "      <td>1018.6</td>\n",
              "      <td>1015.7</td>\n",
              "      <td>0.0</td>\n",
              "      <td>1.0</td>\n",
              "      <td>13.9</td>\n",
              "      <td>26.3</td>\n",
              "      <td>No</td>\n",
              "      <td>No</td>\n",
              "    </tr>\n",
              "    <tr>\n",
              "      <th>3</th>\n",
              "      <td>09/12/2011</td>\n",
              "      <td>C31</td>\n",
              "      <td>17.7</td>\n",
              "      <td>27.0</td>\n",
              "      <td>0.0</td>\n",
              "      <td>4.6</td>\n",
              "      <td>6.7</td>\n",
              "      <td>SW</td>\n",
              "      <td>35.0</td>\n",
              "      <td>E</td>\n",
              "      <td>SSE</td>\n",
              "      <td>20.0</td>\n",
              "      <td>15.0</td>\n",
              "      <td>55.0</td>\n",
              "      <td>41.0</td>\n",
              "      <td>1010.2</td>\n",
              "      <td>1008.6</td>\n",
              "      <td>7.0</td>\n",
              "      <td>6.0</td>\n",
              "      <td>22.3</td>\n",
              "      <td>26.4</td>\n",
              "      <td>No</td>\n",
              "      <td>No</td>\n",
              "    </tr>\n",
              "    <tr>\n",
              "      <th>4</th>\n",
              "      <td>20/05/2017</td>\n",
              "      <td>C14</td>\n",
              "      <td>2.3</td>\n",
              "      <td>7.9</td>\n",
              "      <td>88.0</td>\n",
              "      <td>NaN</td>\n",
              "      <td>NaN</td>\n",
              "      <td>NW</td>\n",
              "      <td>46.0</td>\n",
              "      <td>W</td>\n",
              "      <td>WNW</td>\n",
              "      <td>13.0</td>\n",
              "      <td>9.0</td>\n",
              "      <td>98.0</td>\n",
              "      <td>95.0</td>\n",
              "      <td>NaN</td>\n",
              "      <td>NaN</td>\n",
              "      <td>NaN</td>\n",
              "      <td>NaN</td>\n",
              "      <td>4.4</td>\n",
              "      <td>6.0</td>\n",
              "      <td>Yes</td>\n",
              "      <td>No</td>\n",
              "    </tr>\n",
              "  </tbody>\n",
              "</table>\n",
              "</div>"
            ],
            "text/plain": [
              "      Tanggal KodeLokasi  SuhuMin  ...  Suhu3pm  BersaljuHariIni  BersaljuBesok\n",
              "0  04/11/2010        C39     11.0  ...     23.6               No             No\n",
              "1  26/03/2015        C35     10.0  ...     18.9               No            Yes\n",
              "2  22/03/2016        C18      9.2  ...     26.3               No             No\n",
              "3  09/12/2011        C31     17.7  ...     26.4               No             No\n",
              "4  20/05/2017        C14      2.3  ...      6.0              Yes             No\n",
              "\n",
              "[5 rows x 23 columns]"
            ]
          },
          "metadata": {
            "tags": []
          },
          "execution_count": 50
        }
      ]
    },
    {
      "cell_type": "code",
      "metadata": {
        "colab": {
          "base_uri": "https://localhost:8080/"
        },
        "id": "e-vvp06PUHP-",
        "outputId": "27618022-0dd8-4c18-e501-3daf2daf88ee"
      },
      "source": [
        "datatest.dtypes"
      ],
      "execution_count": 51,
      "outputs": [
        {
          "output_type": "execute_result",
          "data": {
            "text/plain": [
              "Tanggal                      object\n",
              "KodeLokasi                   object\n",
              "SuhuMin                     float64\n",
              "SuhuMax                     float64\n",
              "Hujan                       float64\n",
              "Penguapan                   float64\n",
              "SinarMatahari               float64\n",
              "ArahAnginTerkencang          object\n",
              "KecepatanAnginTerkencang    float64\n",
              "ArahAngin9am                 object\n",
              "ArahAngin3pm                 object\n",
              "KecepatanAngin9am           float64\n",
              "KecepatanAngin3pm           float64\n",
              "Kelembaban9am               float64\n",
              "Kelembaban3pm               float64\n",
              "Tekanan9am                  float64\n",
              "Tekanan3pm                  float64\n",
              "Awan9am                     float64\n",
              "Awan3pm                     float64\n",
              "Suhu9am                     float64\n",
              "Suhu3pm                     float64\n",
              "BersaljuHariIni              object\n",
              "BersaljuBesok                object\n",
              "dtype: object"
            ]
          },
          "metadata": {
            "tags": []
          },
          "execution_count": 51
        }
      ]
    },
    {
      "cell_type": "markdown",
      "metadata": {
        "id": "aJ2nY-dlULEk"
      },
      "source": [
        "## Data Train"
      ]
    },
    {
      "cell_type": "code",
      "metadata": {
        "colab": {
          "base_uri": "https://localhost:8080/",
          "height": 224
        },
        "id": "eHQ4UszI4Vcg",
        "outputId": "db9db0af-4c04-4c29-9ada-04163dda8c56"
      },
      "source": [
        "# datatrain\n",
        "url = 'https://raw.githubusercontent.com/ridhwanashir/ML-Classification-NBSVM/main/salju_train.csv'\n",
        "datatrain = pd.read_csv(url) \n",
        "datatrain.head()"
      ],
      "execution_count": 52,
      "outputs": [
        {
          "output_type": "execute_result",
          "data": {
            "text/html": [
              "<div>\n",
              "<style scoped>\n",
              "    .dataframe tbody tr th:only-of-type {\n",
              "        vertical-align: middle;\n",
              "    }\n",
              "\n",
              "    .dataframe tbody tr th {\n",
              "        vertical-align: top;\n",
              "    }\n",
              "\n",
              "    .dataframe thead th {\n",
              "        text-align: right;\n",
              "    }\n",
              "</style>\n",
              "<table border=\"1\" class=\"dataframe\">\n",
              "  <thead>\n",
              "    <tr style=\"text-align: right;\">\n",
              "      <th></th>\n",
              "      <th>id</th>\n",
              "      <th>Tanggal</th>\n",
              "      <th>KodeLokasi</th>\n",
              "      <th>SuhuMin</th>\n",
              "      <th>SuhuMax</th>\n",
              "      <th>Hujan</th>\n",
              "      <th>Penguapan</th>\n",
              "      <th>SinarMatahari</th>\n",
              "      <th>ArahAnginTerkencang</th>\n",
              "      <th>KecepatanAnginTerkencang</th>\n",
              "      <th>ArahAngin9am</th>\n",
              "      <th>ArahAngin3pm</th>\n",
              "      <th>KecepatanAngin9am</th>\n",
              "      <th>KecepatanAngin3pm</th>\n",
              "      <th>Kelembaban9am</th>\n",
              "      <th>Kelembaban3pm</th>\n",
              "      <th>Tekanan9am</th>\n",
              "      <th>Tekanan3pm</th>\n",
              "      <th>Awan9am</th>\n",
              "      <th>Awan3pm</th>\n",
              "      <th>Suhu9am</th>\n",
              "      <th>Suhu3pm</th>\n",
              "      <th>BersaljuHariIni</th>\n",
              "      <th>BersaljuBesok</th>\n",
              "    </tr>\n",
              "  </thead>\n",
              "  <tbody>\n",
              "    <tr>\n",
              "      <th>0</th>\n",
              "      <td>1</td>\n",
              "      <td>01/06/2014</td>\n",
              "      <td>C4</td>\n",
              "      <td>10.4</td>\n",
              "      <td>15.5</td>\n",
              "      <td>4.8</td>\n",
              "      <td>NaN</td>\n",
              "      <td>NaN</td>\n",
              "      <td>WSW</td>\n",
              "      <td>24.0</td>\n",
              "      <td>NaN</td>\n",
              "      <td>WSW</td>\n",
              "      <td>0.0</td>\n",
              "      <td>13.0</td>\n",
              "      <td>78.0</td>\n",
              "      <td>76.0</td>\n",
              "      <td>1020.1</td>\n",
              "      <td>1018.5</td>\n",
              "      <td>NaN</td>\n",
              "      <td>NaN</td>\n",
              "      <td>13.1</td>\n",
              "      <td>15.0</td>\n",
              "      <td>Ya</td>\n",
              "      <td>Tidak</td>\n",
              "    </tr>\n",
              "    <tr>\n",
              "      <th>1</th>\n",
              "      <td>2</td>\n",
              "      <td>15/07/2014</td>\n",
              "      <td>C10</td>\n",
              "      <td>9.0</td>\n",
              "      <td>17.0</td>\n",
              "      <td>8.0</td>\n",
              "      <td>2.6</td>\n",
              "      <td>7.4</td>\n",
              "      <td>NaN</td>\n",
              "      <td>NaN</td>\n",
              "      <td>SW</td>\n",
              "      <td>WNW</td>\n",
              "      <td>13.0</td>\n",
              "      <td>20.0</td>\n",
              "      <td>80.0</td>\n",
              "      <td>61.0</td>\n",
              "      <td>1015.2</td>\n",
              "      <td>1014.6</td>\n",
              "      <td>7.0</td>\n",
              "      <td>5.0</td>\n",
              "      <td>11.9</td>\n",
              "      <td>15.5</td>\n",
              "      <td>Ya</td>\n",
              "      <td>Ya</td>\n",
              "    </tr>\n",
              "    <tr>\n",
              "      <th>2</th>\n",
              "      <td>3</td>\n",
              "      <td>16/02/2011</td>\n",
              "      <td>C46</td>\n",
              "      <td>18.2</td>\n",
              "      <td>32.0</td>\n",
              "      <td>0.0</td>\n",
              "      <td>NaN</td>\n",
              "      <td>NaN</td>\n",
              "      <td>ESE</td>\n",
              "      <td>44.0</td>\n",
              "      <td>SE</td>\n",
              "      <td>SE</td>\n",
              "      <td>15.0</td>\n",
              "      <td>26.0</td>\n",
              "      <td>62.0</td>\n",
              "      <td>42.0</td>\n",
              "      <td>NaN</td>\n",
              "      <td>NaN</td>\n",
              "      <td>NaN</td>\n",
              "      <td>NaN</td>\n",
              "      <td>23.8</td>\n",
              "      <td>29.6</td>\n",
              "      <td>Tidak</td>\n",
              "      <td>Tidak</td>\n",
              "    </tr>\n",
              "    <tr>\n",
              "      <th>3</th>\n",
              "      <td>4</td>\n",
              "      <td>08/08/2012</td>\n",
              "      <td>C36</td>\n",
              "      <td>7.3</td>\n",
              "      <td>24.5</td>\n",
              "      <td>0.0</td>\n",
              "      <td>8.4</td>\n",
              "      <td>10.4</td>\n",
              "      <td>SSW</td>\n",
              "      <td>54.0</td>\n",
              "      <td>N</td>\n",
              "      <td>SW</td>\n",
              "      <td>13.0</td>\n",
              "      <td>19.0</td>\n",
              "      <td>25.0</td>\n",
              "      <td>17.0</td>\n",
              "      <td>1019.2</td>\n",
              "      <td>1016.9</td>\n",
              "      <td>1.0</td>\n",
              "      <td>7.0</td>\n",
              "      <td>15.3</td>\n",
              "      <td>23.2</td>\n",
              "      <td>Tidak</td>\n",
              "      <td>Tidak</td>\n",
              "    </tr>\n",
              "    <tr>\n",
              "      <th>4</th>\n",
              "      <td>5</td>\n",
              "      <td>29/10/2016</td>\n",
              "      <td>C7</td>\n",
              "      <td>5.9</td>\n",
              "      <td>20.3</td>\n",
              "      <td>0.0</td>\n",
              "      <td>3.6</td>\n",
              "      <td>12.6</td>\n",
              "      <td>N</td>\n",
              "      <td>37.0</td>\n",
              "      <td>NNW</td>\n",
              "      <td>ESE</td>\n",
              "      <td>22.0</td>\n",
              "      <td>19.0</td>\n",
              "      <td>55.0</td>\n",
              "      <td>48.0</td>\n",
              "      <td>1019.7</td>\n",
              "      <td>1014.7</td>\n",
              "      <td>2.0</td>\n",
              "      <td>6.0</td>\n",
              "      <td>12.4</td>\n",
              "      <td>18.1</td>\n",
              "      <td>Tidak</td>\n",
              "      <td>Tidak</td>\n",
              "    </tr>\n",
              "  </tbody>\n",
              "</table>\n",
              "</div>"
            ],
            "text/plain": [
              "   id     Tanggal KodeLokasi  ...  Suhu3pm  BersaljuHariIni  BersaljuBesok\n",
              "0   1  01/06/2014         C4  ...     15.0               Ya          Tidak\n",
              "1   2  15/07/2014        C10  ...     15.5               Ya             Ya\n",
              "2   3  16/02/2011        C46  ...     29.6            Tidak          Tidak\n",
              "3   4  08/08/2012        C36  ...     23.2            Tidak          Tidak\n",
              "4   5  29/10/2016         C7  ...     18.1            Tidak          Tidak\n",
              "\n",
              "[5 rows x 24 columns]"
            ]
          },
          "metadata": {
            "tags": []
          },
          "execution_count": 52
        }
      ]
    },
    {
      "cell_type": "code",
      "metadata": {
        "colab": {
          "base_uri": "https://localhost:8080/"
        },
        "id": "aTXCBYBEUvnV",
        "outputId": "325f1894-1e71-4771-a01e-f663be6edc58"
      },
      "source": [
        "datatrain.dtypes"
      ],
      "execution_count": 53,
      "outputs": [
        {
          "output_type": "execute_result",
          "data": {
            "text/plain": [
              "id                            int64\n",
              "Tanggal                      object\n",
              "KodeLokasi                   object\n",
              "SuhuMin                     float64\n",
              "SuhuMax                     float64\n",
              "Hujan                       float64\n",
              "Penguapan                   float64\n",
              "SinarMatahari               float64\n",
              "ArahAnginTerkencang          object\n",
              "KecepatanAnginTerkencang    float64\n",
              "ArahAngin9am                 object\n",
              "ArahAngin3pm                 object\n",
              "KecepatanAngin9am           float64\n",
              "KecepatanAngin3pm           float64\n",
              "Kelembaban9am               float64\n",
              "Kelembaban3pm               float64\n",
              "Tekanan9am                  float64\n",
              "Tekanan3pm                  float64\n",
              "Awan9am                     float64\n",
              "Awan3pm                     float64\n",
              "Suhu9am                     float64\n",
              "Suhu3pm                     float64\n",
              "BersaljuHariIni              object\n",
              "BersaljuBesok                object\n",
              "dtype: object"
            ]
          },
          "metadata": {
            "tags": []
          },
          "execution_count": 53
        }
      ]
    },
    {
      "cell_type": "code",
      "metadata": {
        "colab": {
          "base_uri": "https://localhost:8080/"
        },
        "id": "NhkzGSG_XFBO",
        "outputId": "9ab53141-5d97-4ce2-c17c-1d335454ef02"
      },
      "source": [
        "# Cek duplikat datatrain \n",
        "duplicate_check = datatrain.duplicated()\n",
        "print(\"Sebelum\")\n",
        "print('Jumlah Data Duplikat = %d' % (duplicate_check.sum()))\n",
        "print('Total Data = %d' % (datatrain.shape[0]))\n",
        "print('\\n')"
      ],
      "execution_count": 54,
      "outputs": [
        {
          "output_type": "stream",
          "text": [
            "Sebelum\n",
            "Jumlah Data Duplikat = 0\n",
            "Total Data = 109095\n",
            "\n",
            "\n"
          ],
          "name": "stdout"
        }
      ]
    },
    {
      "cell_type": "markdown",
      "metadata": {
        "id": "o6SfdY6JXAg0"
      },
      "source": [
        "# Preprocessing Data\n"
      ]
    },
    {
      "cell_type": "markdown",
      "metadata": {
        "id": "b7vFhwKoZzC6"
      },
      "source": [
        "## Drop Missing Value\n",
        "melakukan drop terhadap data yang mengandung nilai *null*"
      ]
    },
    {
      "cell_type": "markdown",
      "metadata": {
        "id": "tm7jCFjRgeL5"
      },
      "source": [
        "### Test"
      ]
    },
    {
      "cell_type": "code",
      "metadata": {
        "colab": {
          "base_uri": "https://localhost:8080/"
        },
        "id": "htCWezCAYGhn",
        "outputId": "468bb174-3664-4752-8608-e5e7a69f66b3"
      },
      "source": [
        "# Cek missing value\n",
        "missingdata=datatest.isnull().sum().sort_values(ascending = False)\n",
        "print(missingdata)"
      ],
      "execution_count": 55,
      "outputs": [
        {
          "output_type": "stream",
          "text": [
            "SinarMatahari               8718\n",
            "Penguapan                   7856\n",
            "Awan3pm                     7456\n",
            "Awan9am                     7042\n",
            "Tekanan9am                  1865\n",
            "Tekanan3pm                  1853\n",
            "ArahAngin9am                1308\n",
            "ArahAnginTerkencang         1281\n",
            "KecepatanAnginTerkencang    1274\n",
            "Kelembaban3pm                548\n",
            "ArahAngin3pm                 496\n",
            "Suhu3pm                      442\n",
            "BersaljuBesok                419\n",
            "BersaljuHariIni              387\n",
            "Hujan                        387\n",
            "KecepatanAngin3pm            354\n",
            "Kelembaban9am                330\n",
            "Suhu9am                      219\n",
            "KecepatanAngin9am            198\n",
            "SuhuMax                      165\n",
            "SuhuMin                      165\n",
            "KodeLokasi                     0\n",
            "Tanggal                        0\n",
            "dtype: int64\n"
          ],
          "name": "stdout"
        }
      ]
    },
    {
      "cell_type": "code",
      "metadata": {
        "colab": {
          "base_uri": "https://localhost:8080/"
        },
        "id": "EwLzrUWtripm",
        "outputId": "b515f9ca-81f3-43b2-9262-c6e87e7327b5"
      },
      "source": [
        "datatest = datatest.dropna(how='any')\n",
        "datatest.isnull().sum()"
      ],
      "execution_count": 56,
      "outputs": [
        {
          "output_type": "execute_result",
          "data": {
            "text/plain": [
              "Tanggal                     0\n",
              "KodeLokasi                  0\n",
              "SuhuMin                     0\n",
              "SuhuMax                     0\n",
              "Hujan                       0\n",
              "Penguapan                   0\n",
              "SinarMatahari               0\n",
              "ArahAnginTerkencang         0\n",
              "KecepatanAnginTerkencang    0\n",
              "ArahAngin9am                0\n",
              "ArahAngin3pm                0\n",
              "KecepatanAngin9am           0\n",
              "KecepatanAngin3pm           0\n",
              "Kelembaban9am               0\n",
              "Kelembaban3pm               0\n",
              "Tekanan9am                  0\n",
              "Tekanan3pm                  0\n",
              "Awan9am                     0\n",
              "Awan3pm                     0\n",
              "Suhu9am                     0\n",
              "Suhu3pm                     0\n",
              "BersaljuHariIni             0\n",
              "BersaljuBesok               0\n",
              "dtype: int64"
            ]
          },
          "metadata": {
            "tags": []
          },
          "execution_count": 56
        }
      ]
    },
    {
      "cell_type": "code",
      "metadata": {
        "colab": {
          "base_uri": "https://localhost:8080/"
        },
        "id": "PCjdYKsotCw7",
        "outputId": "d6206d09-f0f0-4bf9-ec96-c1530444ecfa"
      },
      "source": [
        "datatrain.describe"
      ],
      "execution_count": 57,
      "outputs": [
        {
          "output_type": "execute_result",
          "data": {
            "text/plain": [
              "<bound method NDFrame.describe of             id     Tanggal KodeLokasi  ...  Suhu3pm  BersaljuHariIni  BersaljuBesok\n",
              "0            1  01/06/2014         C4  ...     15.0               Ya          Tidak\n",
              "1            2  15/07/2014        C10  ...     15.5               Ya             Ya\n",
              "2            3  16/02/2011        C46  ...     29.6            Tidak          Tidak\n",
              "3            4  08/08/2012        C36  ...     23.2            Tidak          Tidak\n",
              "4            5  29/10/2016         C7  ...     18.1            Tidak          Tidak\n",
              "...        ...         ...        ...  ...      ...              ...            ...\n",
              "109090  109091  31/01/2009        C38  ...     22.1            Tidak             Ya\n",
              "109091  109092  03/11/2010        C16  ...     24.4            Tidak             Ya\n",
              "109092  109093  11/11/2010        C17  ...     19.8               Ya          Tidak\n",
              "109093  109094  16/04/2012        C11  ...     29.2            Tidak          Tidak\n",
              "109094  109095  09/10/2011        C16  ...     23.3               Ya          Tidak\n",
              "\n",
              "[109095 rows x 24 columns]>"
            ]
          },
          "metadata": {
            "tags": []
          },
          "execution_count": 57
        }
      ]
    },
    {
      "cell_type": "markdown",
      "metadata": {
        "id": "4Y1aO1dZgh-B"
      },
      "source": [
        "### Train"
      ]
    },
    {
      "cell_type": "code",
      "metadata": {
        "colab": {
          "base_uri": "https://localhost:8080/"
        },
        "id": "rJTvhFgkgh-C",
        "outputId": "fa1d8510-ac06-470e-e224-164a9ab02580"
      },
      "source": [
        "# Cek missing value\n",
        "missingdata=datatrain.isnull().sum().sort_values(ascending = False)\n",
        "print(missingdata)"
      ],
      "execution_count": 58,
      "outputs": [
        {
          "output_type": "stream",
          "text": [
            "SinarMatahari               52379\n",
            "Penguapan                   47024\n",
            "Awan3pm                     44471\n",
            "Awan9am                     41844\n",
            "Tekanan9am                  11327\n",
            "Tekanan3pm                  11308\n",
            "ArahAngin9am                 7923\n",
            "ArahAnginTerkencang          7744\n",
            "KecepatanAnginTerkencang     7696\n",
            "Kelembaban3pm                3374\n",
            "ArahAngin3pm                 3197\n",
            "Suhu3pm                      2698\n",
            "Hujan                        2431\n",
            "BersaljuBesok                2431\n",
            "BersaljuHariIni              2431\n",
            "KecepatanAngin3pm            2303\n",
            "Kelembaban9am                2002\n",
            "KecepatanAngin9am            1353\n",
            "Suhu9am                      1340\n",
            "SuhuMin                      1122\n",
            "SuhuMax                       929\n",
            "KodeLokasi                      0\n",
            "Tanggal                         0\n",
            "id                              0\n",
            "dtype: int64\n"
          ],
          "name": "stdout"
        }
      ]
    },
    {
      "cell_type": "code",
      "metadata": {
        "colab": {
          "base_uri": "https://localhost:8080/"
        },
        "id": "8B5RKqMEgh-D",
        "outputId": "b35173b1-a016-48b1-a7dd-500d389fdbcc"
      },
      "source": [
        "datatrain = datatrain.dropna(how='any')\n",
        "datatrain.isnull().sum()"
      ],
      "execution_count": 59,
      "outputs": [
        {
          "output_type": "execute_result",
          "data": {
            "text/plain": [
              "id                          0\n",
              "Tanggal                     0\n",
              "KodeLokasi                  0\n",
              "SuhuMin                     0\n",
              "SuhuMax                     0\n",
              "Hujan                       0\n",
              "Penguapan                   0\n",
              "SinarMatahari               0\n",
              "ArahAnginTerkencang         0\n",
              "KecepatanAnginTerkencang    0\n",
              "ArahAngin9am                0\n",
              "ArahAngin3pm                0\n",
              "KecepatanAngin9am           0\n",
              "KecepatanAngin3pm           0\n",
              "Kelembaban9am               0\n",
              "Kelembaban3pm               0\n",
              "Tekanan9am                  0\n",
              "Tekanan3pm                  0\n",
              "Awan9am                     0\n",
              "Awan3pm                     0\n",
              "Suhu9am                     0\n",
              "Suhu3pm                     0\n",
              "BersaljuHariIni             0\n",
              "BersaljuBesok               0\n",
              "dtype: int64"
            ]
          },
          "metadata": {
            "tags": []
          },
          "execution_count": 59
        }
      ]
    },
    {
      "cell_type": "code",
      "metadata": {
        "colab": {
          "base_uri": "https://localhost:8080/"
        },
        "id": "LRoVDnukgh-D",
        "outputId": "c67fd93e-51b1-48c3-bc10-53c770476bdd"
      },
      "source": [
        "datatrain.describe"
      ],
      "execution_count": 60,
      "outputs": [
        {
          "output_type": "execute_result",
          "data": {
            "text/plain": [
              "<bound method NDFrame.describe of             id     Tanggal KodeLokasi  ...  Suhu3pm  BersaljuHariIni  BersaljuBesok\n",
              "3            4  08/08/2012        C36  ...     23.2            Tidak          Tidak\n",
              "4            5  29/10/2016         C7  ...     18.1            Tidak          Tidak\n",
              "5            6  12/06/2011        C12  ...     21.1            Tidak          Tidak\n",
              "6            7  13/06/2009        C36  ...     18.3            Tidak          Tidak\n",
              "8            9  18/02/2014         C8  ...     34.9            Tidak          Tidak\n",
              "...        ...         ...        ...  ...      ...              ...            ...\n",
              "109080  109081  03/02/2010        C40  ...     33.0            Tidak          Tidak\n",
              "109082  109083  22/07/2014         C2  ...     16.5            Tidak          Tidak\n",
              "109088  109089  17/11/2015        C25  ...     25.5            Tidak          Tidak\n",
              "109090  109091  31/01/2009        C38  ...     22.1            Tidak             Ya\n",
              "109093  109094  16/04/2012        C11  ...     29.2            Tidak          Tidak\n",
              "\n",
              "[42411 rows x 24 columns]>"
            ]
          },
          "metadata": {
            "tags": []
          },
          "execution_count": 60
        }
      ]
    },
    {
      "cell_type": "markdown",
      "metadata": {
        "id": "zHEdNRwcrYht"
      },
      "source": [
        "## Pemilihan Fitur\n",
        "melakukan drop terhadap fitur dengan tipe data object kecuali fitur ***BersajuHariIni*** dan ***BersaljuBesok***"
      ]
    },
    {
      "cell_type": "code",
      "metadata": {
        "colab": {
          "base_uri": "https://localhost:8080/"
        },
        "id": "9Xq8WTKSZ5lB",
        "outputId": "a40b95f0-8ceb-4118-dc33-d807666aac9a"
      },
      "source": [
        "datatrain.drop(['id','Tanggal','KodeLokasi','ArahAnginTerkencang','ArahAngin9am','ArahAngin3pm'], axis='columns', inplace=True)\n",
        "datatrain.dtypes\n"
      ],
      "execution_count": 61,
      "outputs": [
        {
          "output_type": "execute_result",
          "data": {
            "text/plain": [
              "SuhuMin                     float64\n",
              "SuhuMax                     float64\n",
              "Hujan                       float64\n",
              "Penguapan                   float64\n",
              "SinarMatahari               float64\n",
              "KecepatanAnginTerkencang    float64\n",
              "KecepatanAngin9am           float64\n",
              "KecepatanAngin3pm           float64\n",
              "Kelembaban9am               float64\n",
              "Kelembaban3pm               float64\n",
              "Tekanan9am                  float64\n",
              "Tekanan3pm                  float64\n",
              "Awan9am                     float64\n",
              "Awan3pm                     float64\n",
              "Suhu9am                     float64\n",
              "Suhu3pm                     float64\n",
              "BersaljuHariIni              object\n",
              "BersaljuBesok                object\n",
              "dtype: object"
            ]
          },
          "metadata": {
            "tags": []
          },
          "execution_count": 61
        }
      ]
    },
    {
      "cell_type": "code",
      "metadata": {
        "colab": {
          "base_uri": "https://localhost:8080/"
        },
        "id": "A-1xYU-AS0Ls",
        "outputId": "b7f8e4a6-9b47-4ec4-b99e-ef354f9a04fe"
      },
      "source": [
        "datatest.drop(['Tanggal','KodeLokasi','ArahAnginTerkencang','ArahAngin9am','ArahAngin3pm'], axis='columns', inplace=True)\n",
        "datatest.dtypes"
      ],
      "execution_count": 62,
      "outputs": [
        {
          "output_type": "execute_result",
          "data": {
            "text/plain": [
              "SuhuMin                     float64\n",
              "SuhuMax                     float64\n",
              "Hujan                       float64\n",
              "Penguapan                   float64\n",
              "SinarMatahari               float64\n",
              "KecepatanAnginTerkencang    float64\n",
              "KecepatanAngin9am           float64\n",
              "KecepatanAngin3pm           float64\n",
              "Kelembaban9am               float64\n",
              "Kelembaban3pm               float64\n",
              "Tekanan9am                  float64\n",
              "Tekanan3pm                  float64\n",
              "Awan9am                     float64\n",
              "Awan3pm                     float64\n",
              "Suhu9am                     float64\n",
              "Suhu3pm                     float64\n",
              "BersaljuHariIni              object\n",
              "BersaljuBesok                object\n",
              "dtype: object"
            ]
          },
          "metadata": {
            "tags": []
          },
          "execution_count": 62
        }
      ]
    },
    {
      "cell_type": "markdown",
      "metadata": {
        "id": "4IakklglkUNE"
      },
      "source": [
        "## Scaling Fitur\n",
        "menjadikan fitur ***BersajuHariIni*** dan ***BersaljuBesok*** menjadi nilai boolean (1 atau 0), dan melakukan normalisasi terhadap fitur yang lain ke dalam *range* 0-1"
      ]
    },
    {
      "cell_type": "markdown",
      "metadata": {
        "id": "b65Po_ffSngr"
      },
      "source": [
        "### Test"
      ]
    },
    {
      "cell_type": "code",
      "metadata": {
        "colab": {
          "base_uri": "https://localhost:8080/",
          "height": 224
        },
        "id": "MWO-rb5lSxn2",
        "outputId": "ebbb6ea3-2eb9-45a2-c587-d8aefb04e5e4"
      },
      "source": [
        "d = {'Yes': 1, 'No': 0}\n",
        "datatest['BersaljuHariIni'] = datatest['BersaljuHariIni'].map(d)\n",
        "datatest['BersaljuBesok'] = datatest['BersaljuBesok'].map(d)\n",
        "datatest.head()\n"
      ],
      "execution_count": 63,
      "outputs": [
        {
          "output_type": "execute_result",
          "data": {
            "text/html": [
              "<div>\n",
              "<style scoped>\n",
              "    .dataframe tbody tr th:only-of-type {\n",
              "        vertical-align: middle;\n",
              "    }\n",
              "\n",
              "    .dataframe tbody tr th {\n",
              "        vertical-align: top;\n",
              "    }\n",
              "\n",
              "    .dataframe thead th {\n",
              "        text-align: right;\n",
              "    }\n",
              "</style>\n",
              "<table border=\"1\" class=\"dataframe\">\n",
              "  <thead>\n",
              "    <tr style=\"text-align: right;\">\n",
              "      <th></th>\n",
              "      <th>SuhuMin</th>\n",
              "      <th>SuhuMax</th>\n",
              "      <th>Hujan</th>\n",
              "      <th>Penguapan</th>\n",
              "      <th>SinarMatahari</th>\n",
              "      <th>KecepatanAnginTerkencang</th>\n",
              "      <th>KecepatanAngin9am</th>\n",
              "      <th>KecepatanAngin3pm</th>\n",
              "      <th>Kelembaban9am</th>\n",
              "      <th>Kelembaban3pm</th>\n",
              "      <th>Tekanan9am</th>\n",
              "      <th>Tekanan3pm</th>\n",
              "      <th>Awan9am</th>\n",
              "      <th>Awan3pm</th>\n",
              "      <th>Suhu9am</th>\n",
              "      <th>Suhu3pm</th>\n",
              "      <th>BersaljuHariIni</th>\n",
              "      <th>BersaljuBesok</th>\n",
              "    </tr>\n",
              "  </thead>\n",
              "  <tbody>\n",
              "    <tr>\n",
              "      <th>2</th>\n",
              "      <td>9.2</td>\n",
              "      <td>27.2</td>\n",
              "      <td>0.0</td>\n",
              "      <td>5.2</td>\n",
              "      <td>10.4</td>\n",
              "      <td>33.0</td>\n",
              "      <td>13.0</td>\n",
              "      <td>19.0</td>\n",
              "      <td>89.0</td>\n",
              "      <td>27.0</td>\n",
              "      <td>1018.6</td>\n",
              "      <td>1015.7</td>\n",
              "      <td>0.0</td>\n",
              "      <td>1.0</td>\n",
              "      <td>13.9</td>\n",
              "      <td>26.3</td>\n",
              "      <td>0</td>\n",
              "      <td>0</td>\n",
              "    </tr>\n",
              "    <tr>\n",
              "      <th>3</th>\n",
              "      <td>17.7</td>\n",
              "      <td>27.0</td>\n",
              "      <td>0.0</td>\n",
              "      <td>4.6</td>\n",
              "      <td>6.7</td>\n",
              "      <td>35.0</td>\n",
              "      <td>20.0</td>\n",
              "      <td>15.0</td>\n",
              "      <td>55.0</td>\n",
              "      <td>41.0</td>\n",
              "      <td>1010.2</td>\n",
              "      <td>1008.6</td>\n",
              "      <td>7.0</td>\n",
              "      <td>6.0</td>\n",
              "      <td>22.3</td>\n",
              "      <td>26.4</td>\n",
              "      <td>0</td>\n",
              "      <td>0</td>\n",
              "    </tr>\n",
              "    <tr>\n",
              "      <th>7</th>\n",
              "      <td>14.4</td>\n",
              "      <td>22.4</td>\n",
              "      <td>0.0</td>\n",
              "      <td>4.4</td>\n",
              "      <td>3.9</td>\n",
              "      <td>28.0</td>\n",
              "      <td>9.0</td>\n",
              "      <td>11.0</td>\n",
              "      <td>57.0</td>\n",
              "      <td>51.0</td>\n",
              "      <td>1022.6</td>\n",
              "      <td>1020.7</td>\n",
              "      <td>7.0</td>\n",
              "      <td>7.0</td>\n",
              "      <td>18.3</td>\n",
              "      <td>20.9</td>\n",
              "      <td>0</td>\n",
              "      <td>0</td>\n",
              "    </tr>\n",
              "    <tr>\n",
              "      <th>8</th>\n",
              "      <td>20.3</td>\n",
              "      <td>33.7</td>\n",
              "      <td>0.0</td>\n",
              "      <td>11.8</td>\n",
              "      <td>11.1</td>\n",
              "      <td>52.0</td>\n",
              "      <td>20.0</td>\n",
              "      <td>24.0</td>\n",
              "      <td>54.0</td>\n",
              "      <td>33.0</td>\n",
              "      <td>1007.7</td>\n",
              "      <td>1005.6</td>\n",
              "      <td>5.0</td>\n",
              "      <td>5.0</td>\n",
              "      <td>24.6</td>\n",
              "      <td>32.2</td>\n",
              "      <td>0</td>\n",
              "      <td>0</td>\n",
              "    </tr>\n",
              "    <tr>\n",
              "      <th>10</th>\n",
              "      <td>8.1</td>\n",
              "      <td>18.2</td>\n",
              "      <td>0.0</td>\n",
              "      <td>1.6</td>\n",
              "      <td>5.1</td>\n",
              "      <td>31.0</td>\n",
              "      <td>11.0</td>\n",
              "      <td>15.0</td>\n",
              "      <td>94.0</td>\n",
              "      <td>48.0</td>\n",
              "      <td>1027.1</td>\n",
              "      <td>1024.5</td>\n",
              "      <td>7.0</td>\n",
              "      <td>7.0</td>\n",
              "      <td>10.3</td>\n",
              "      <td>17.7</td>\n",
              "      <td>0</td>\n",
              "      <td>0</td>\n",
              "    </tr>\n",
              "  </tbody>\n",
              "</table>\n",
              "</div>"
            ],
            "text/plain": [
              "    SuhuMin  SuhuMax  Hujan  ...  Suhu3pm  BersaljuHariIni  BersaljuBesok\n",
              "2       9.2     27.2    0.0  ...     26.3                0              0\n",
              "3      17.7     27.0    0.0  ...     26.4                0              0\n",
              "7      14.4     22.4    0.0  ...     20.9                0              0\n",
              "8      20.3     33.7    0.0  ...     32.2                0              0\n",
              "10      8.1     18.2    0.0  ...     17.7                0              0\n",
              "\n",
              "[5 rows x 18 columns]"
            ]
          },
          "metadata": {
            "tags": []
          },
          "execution_count": 63
        }
      ]
    },
    {
      "cell_type": "code",
      "metadata": {
        "colab": {
          "base_uri": "https://localhost:8080/",
          "height": 204
        },
        "id": "OGxltK6BSxn-",
        "outputId": "1ca8c27c-1892-4285-cec5-71b801980756"
      },
      "source": [
        "testtarget = datatest.iloc[:,[17]]\n",
        "testtarget.head()"
      ],
      "execution_count": 64,
      "outputs": [
        {
          "output_type": "execute_result",
          "data": {
            "text/html": [
              "<div>\n",
              "<style scoped>\n",
              "    .dataframe tbody tr th:only-of-type {\n",
              "        vertical-align: middle;\n",
              "    }\n",
              "\n",
              "    .dataframe tbody tr th {\n",
              "        vertical-align: top;\n",
              "    }\n",
              "\n",
              "    .dataframe thead th {\n",
              "        text-align: right;\n",
              "    }\n",
              "</style>\n",
              "<table border=\"1\" class=\"dataframe\">\n",
              "  <thead>\n",
              "    <tr style=\"text-align: right;\">\n",
              "      <th></th>\n",
              "      <th>BersaljuBesok</th>\n",
              "    </tr>\n",
              "  </thead>\n",
              "  <tbody>\n",
              "    <tr>\n",
              "      <th>2</th>\n",
              "      <td>0</td>\n",
              "    </tr>\n",
              "    <tr>\n",
              "      <th>3</th>\n",
              "      <td>0</td>\n",
              "    </tr>\n",
              "    <tr>\n",
              "      <th>7</th>\n",
              "      <td>0</td>\n",
              "    </tr>\n",
              "    <tr>\n",
              "      <th>8</th>\n",
              "      <td>0</td>\n",
              "    </tr>\n",
              "    <tr>\n",
              "      <th>10</th>\n",
              "      <td>0</td>\n",
              "    </tr>\n",
              "  </tbody>\n",
              "</table>\n",
              "</div>"
            ],
            "text/plain": [
              "    BersaljuBesok\n",
              "2               0\n",
              "3               0\n",
              "7               0\n",
              "8               0\n",
              "10              0"
            ]
          },
          "metadata": {
            "tags": []
          },
          "execution_count": 64
        }
      ]
    },
    {
      "cell_type": "code",
      "metadata": {
        "colab": {
          "base_uri": "https://localhost:8080/",
          "height": 224
        },
        "id": "dFysTbPRSxn_",
        "outputId": "0f856caf-5dd1-4e8e-8736-f77b8af53a7d"
      },
      "source": [
        "testdata = datatest.iloc[:,[0,1,2,3,4,5,6,7,8,9,10,11,12,13,14,15,16]]\n",
        "testdata.head()"
      ],
      "execution_count": 65,
      "outputs": [
        {
          "output_type": "execute_result",
          "data": {
            "text/html": [
              "<div>\n",
              "<style scoped>\n",
              "    .dataframe tbody tr th:only-of-type {\n",
              "        vertical-align: middle;\n",
              "    }\n",
              "\n",
              "    .dataframe tbody tr th {\n",
              "        vertical-align: top;\n",
              "    }\n",
              "\n",
              "    .dataframe thead th {\n",
              "        text-align: right;\n",
              "    }\n",
              "</style>\n",
              "<table border=\"1\" class=\"dataframe\">\n",
              "  <thead>\n",
              "    <tr style=\"text-align: right;\">\n",
              "      <th></th>\n",
              "      <th>SuhuMin</th>\n",
              "      <th>SuhuMax</th>\n",
              "      <th>Hujan</th>\n",
              "      <th>Penguapan</th>\n",
              "      <th>SinarMatahari</th>\n",
              "      <th>KecepatanAnginTerkencang</th>\n",
              "      <th>KecepatanAngin9am</th>\n",
              "      <th>KecepatanAngin3pm</th>\n",
              "      <th>Kelembaban9am</th>\n",
              "      <th>Kelembaban3pm</th>\n",
              "      <th>Tekanan9am</th>\n",
              "      <th>Tekanan3pm</th>\n",
              "      <th>Awan9am</th>\n",
              "      <th>Awan3pm</th>\n",
              "      <th>Suhu9am</th>\n",
              "      <th>Suhu3pm</th>\n",
              "      <th>BersaljuHariIni</th>\n",
              "    </tr>\n",
              "  </thead>\n",
              "  <tbody>\n",
              "    <tr>\n",
              "      <th>2</th>\n",
              "      <td>9.2</td>\n",
              "      <td>27.2</td>\n",
              "      <td>0.0</td>\n",
              "      <td>5.2</td>\n",
              "      <td>10.4</td>\n",
              "      <td>33.0</td>\n",
              "      <td>13.0</td>\n",
              "      <td>19.0</td>\n",
              "      <td>89.0</td>\n",
              "      <td>27.0</td>\n",
              "      <td>1018.6</td>\n",
              "      <td>1015.7</td>\n",
              "      <td>0.0</td>\n",
              "      <td>1.0</td>\n",
              "      <td>13.9</td>\n",
              "      <td>26.3</td>\n",
              "      <td>0</td>\n",
              "    </tr>\n",
              "    <tr>\n",
              "      <th>3</th>\n",
              "      <td>17.7</td>\n",
              "      <td>27.0</td>\n",
              "      <td>0.0</td>\n",
              "      <td>4.6</td>\n",
              "      <td>6.7</td>\n",
              "      <td>35.0</td>\n",
              "      <td>20.0</td>\n",
              "      <td>15.0</td>\n",
              "      <td>55.0</td>\n",
              "      <td>41.0</td>\n",
              "      <td>1010.2</td>\n",
              "      <td>1008.6</td>\n",
              "      <td>7.0</td>\n",
              "      <td>6.0</td>\n",
              "      <td>22.3</td>\n",
              "      <td>26.4</td>\n",
              "      <td>0</td>\n",
              "    </tr>\n",
              "    <tr>\n",
              "      <th>7</th>\n",
              "      <td>14.4</td>\n",
              "      <td>22.4</td>\n",
              "      <td>0.0</td>\n",
              "      <td>4.4</td>\n",
              "      <td>3.9</td>\n",
              "      <td>28.0</td>\n",
              "      <td>9.0</td>\n",
              "      <td>11.0</td>\n",
              "      <td>57.0</td>\n",
              "      <td>51.0</td>\n",
              "      <td>1022.6</td>\n",
              "      <td>1020.7</td>\n",
              "      <td>7.0</td>\n",
              "      <td>7.0</td>\n",
              "      <td>18.3</td>\n",
              "      <td>20.9</td>\n",
              "      <td>0</td>\n",
              "    </tr>\n",
              "    <tr>\n",
              "      <th>8</th>\n",
              "      <td>20.3</td>\n",
              "      <td>33.7</td>\n",
              "      <td>0.0</td>\n",
              "      <td>11.8</td>\n",
              "      <td>11.1</td>\n",
              "      <td>52.0</td>\n",
              "      <td>20.0</td>\n",
              "      <td>24.0</td>\n",
              "      <td>54.0</td>\n",
              "      <td>33.0</td>\n",
              "      <td>1007.7</td>\n",
              "      <td>1005.6</td>\n",
              "      <td>5.0</td>\n",
              "      <td>5.0</td>\n",
              "      <td>24.6</td>\n",
              "      <td>32.2</td>\n",
              "      <td>0</td>\n",
              "    </tr>\n",
              "    <tr>\n",
              "      <th>10</th>\n",
              "      <td>8.1</td>\n",
              "      <td>18.2</td>\n",
              "      <td>0.0</td>\n",
              "      <td>1.6</td>\n",
              "      <td>5.1</td>\n",
              "      <td>31.0</td>\n",
              "      <td>11.0</td>\n",
              "      <td>15.0</td>\n",
              "      <td>94.0</td>\n",
              "      <td>48.0</td>\n",
              "      <td>1027.1</td>\n",
              "      <td>1024.5</td>\n",
              "      <td>7.0</td>\n",
              "      <td>7.0</td>\n",
              "      <td>10.3</td>\n",
              "      <td>17.7</td>\n",
              "      <td>0</td>\n",
              "    </tr>\n",
              "  </tbody>\n",
              "</table>\n",
              "</div>"
            ],
            "text/plain": [
              "    SuhuMin  SuhuMax  Hujan  ...  Suhu9am  Suhu3pm  BersaljuHariIni\n",
              "2       9.2     27.2    0.0  ...     13.9     26.3                0\n",
              "3      17.7     27.0    0.0  ...     22.3     26.4                0\n",
              "7      14.4     22.4    0.0  ...     18.3     20.9                0\n",
              "8      20.3     33.7    0.0  ...     24.6     32.2                0\n",
              "10      8.1     18.2    0.0  ...     10.3     17.7                0\n",
              "\n",
              "[5 rows x 17 columns]"
            ]
          },
          "metadata": {
            "tags": []
          },
          "execution_count": 65
        }
      ]
    },
    {
      "cell_type": "code",
      "metadata": {
        "colab": {
          "base_uri": "https://localhost:8080/"
        },
        "id": "8Jh01S4oSxn_",
        "outputId": "02d31c3b-c87b-4dc7-a23b-654fac67bdac"
      },
      "source": [
        "from sklearn.preprocessing import MinMaxScaler\n",
        "\n",
        "nd_datatest = MinMaxScaler(feature_range=(0,1)).fit_transform(testdata)\n",
        "nd_datatest"
      ],
      "execution_count": 66,
      "outputs": [
        {
          "output_type": "execute_result",
          "data": {
            "text/plain": [
              "array([[0.40524781, 0.48267327, 0.        , ..., 0.35849057, 0.52058111,\n",
              "        0.        ],\n",
              "       [0.65306122, 0.47772277, 0.        , ..., 0.58490566, 0.52300242,\n",
              "        0.        ],\n",
              "       [0.55685131, 0.36386139, 0.        , ..., 0.47708895, 0.38983051,\n",
              "        0.        ],\n",
              "       ...,\n",
              "       [0.36443149, 0.4480198 , 0.        , ..., 0.43665768, 0.46489104,\n",
              "        0.        ],\n",
              "       [0.49854227, 0.46782178, 0.        , ..., 0.44474394, 0.50605327,\n",
              "        0.        ],\n",
              "       [0.50145773, 0.47029703, 0.        , ..., 0.60107817, 0.49878935,\n",
              "        0.        ]])"
            ]
          },
          "metadata": {
            "tags": []
          },
          "execution_count": 66
        }
      ]
    },
    {
      "cell_type": "code",
      "metadata": {
        "colab": {
          "base_uri": "https://localhost:8080/"
        },
        "id": "Pzxl4HgoSxn_",
        "outputId": "a140c6eb-e7ca-4c57-f72b-1282543f22fd"
      },
      "source": [
        "nd_datatest.shape"
      ],
      "execution_count": 67,
      "outputs": [
        {
          "output_type": "execute_result",
          "data": {
            "text/plain": [
              "(7016, 17)"
            ]
          },
          "metadata": {
            "tags": []
          },
          "execution_count": 67
        }
      ]
    },
    {
      "cell_type": "markdown",
      "metadata": {
        "id": "YVyMNg3kSWP9"
      },
      "source": [
        "### Train"
      ]
    },
    {
      "cell_type": "code",
      "metadata": {
        "colab": {
          "base_uri": "https://localhost:8080/",
          "height": 224
        },
        "id": "bmKCj0_Ylfap",
        "outputId": "9b03b31e-46a2-4dbd-bf3c-06ddeca639e1"
      },
      "source": [
        "d = {'Ya': 1, 'Tidak': 0}\n",
        "datatrain['BersaljuHariIni'] = datatrain['BersaljuHariIni'].map(d)\n",
        "datatrain['BersaljuBesok'] = datatrain['BersaljuBesok'].map(d)\n",
        "datatrain.head()\n"
      ],
      "execution_count": 68,
      "outputs": [
        {
          "output_type": "execute_result",
          "data": {
            "text/html": [
              "<div>\n",
              "<style scoped>\n",
              "    .dataframe tbody tr th:only-of-type {\n",
              "        vertical-align: middle;\n",
              "    }\n",
              "\n",
              "    .dataframe tbody tr th {\n",
              "        vertical-align: top;\n",
              "    }\n",
              "\n",
              "    .dataframe thead th {\n",
              "        text-align: right;\n",
              "    }\n",
              "</style>\n",
              "<table border=\"1\" class=\"dataframe\">\n",
              "  <thead>\n",
              "    <tr style=\"text-align: right;\">\n",
              "      <th></th>\n",
              "      <th>SuhuMin</th>\n",
              "      <th>SuhuMax</th>\n",
              "      <th>Hujan</th>\n",
              "      <th>Penguapan</th>\n",
              "      <th>SinarMatahari</th>\n",
              "      <th>KecepatanAnginTerkencang</th>\n",
              "      <th>KecepatanAngin9am</th>\n",
              "      <th>KecepatanAngin3pm</th>\n",
              "      <th>Kelembaban9am</th>\n",
              "      <th>Kelembaban3pm</th>\n",
              "      <th>Tekanan9am</th>\n",
              "      <th>Tekanan3pm</th>\n",
              "      <th>Awan9am</th>\n",
              "      <th>Awan3pm</th>\n",
              "      <th>Suhu9am</th>\n",
              "      <th>Suhu3pm</th>\n",
              "      <th>BersaljuHariIni</th>\n",
              "      <th>BersaljuBesok</th>\n",
              "    </tr>\n",
              "  </thead>\n",
              "  <tbody>\n",
              "    <tr>\n",
              "      <th>3</th>\n",
              "      <td>7.3</td>\n",
              "      <td>24.5</td>\n",
              "      <td>0.0</td>\n",
              "      <td>8.4</td>\n",
              "      <td>10.4</td>\n",
              "      <td>54.0</td>\n",
              "      <td>13.0</td>\n",
              "      <td>19.0</td>\n",
              "      <td>25.0</td>\n",
              "      <td>17.0</td>\n",
              "      <td>1019.2</td>\n",
              "      <td>1016.9</td>\n",
              "      <td>1.0</td>\n",
              "      <td>7.0</td>\n",
              "      <td>15.3</td>\n",
              "      <td>23.2</td>\n",
              "      <td>0</td>\n",
              "      <td>0</td>\n",
              "    </tr>\n",
              "    <tr>\n",
              "      <th>4</th>\n",
              "      <td>5.9</td>\n",
              "      <td>20.3</td>\n",
              "      <td>0.0</td>\n",
              "      <td>3.6</td>\n",
              "      <td>12.6</td>\n",
              "      <td>37.0</td>\n",
              "      <td>22.0</td>\n",
              "      <td>19.0</td>\n",
              "      <td>55.0</td>\n",
              "      <td>48.0</td>\n",
              "      <td>1019.7</td>\n",
              "      <td>1014.7</td>\n",
              "      <td>2.0</td>\n",
              "      <td>6.0</td>\n",
              "      <td>12.4</td>\n",
              "      <td>18.1</td>\n",
              "      <td>0</td>\n",
              "      <td>0</td>\n",
              "    </tr>\n",
              "    <tr>\n",
              "      <th>5</th>\n",
              "      <td>14.4</td>\n",
              "      <td>21.8</td>\n",
              "      <td>0.0</td>\n",
              "      <td>3.2</td>\n",
              "      <td>4.4</td>\n",
              "      <td>39.0</td>\n",
              "      <td>19.0</td>\n",
              "      <td>20.0</td>\n",
              "      <td>63.0</td>\n",
              "      <td>52.0</td>\n",
              "      <td>1016.1</td>\n",
              "      <td>1012.5</td>\n",
              "      <td>7.0</td>\n",
              "      <td>7.0</td>\n",
              "      <td>16.7</td>\n",
              "      <td>21.1</td>\n",
              "      <td>0</td>\n",
              "      <td>0</td>\n",
              "    </tr>\n",
              "    <tr>\n",
              "      <th>6</th>\n",
              "      <td>7.7</td>\n",
              "      <td>18.7</td>\n",
              "      <td>0.2</td>\n",
              "      <td>5.6</td>\n",
              "      <td>9.7</td>\n",
              "      <td>46.0</td>\n",
              "      <td>19.0</td>\n",
              "      <td>28.0</td>\n",
              "      <td>69.0</td>\n",
              "      <td>31.0</td>\n",
              "      <td>1011.3</td>\n",
              "      <td>1008.8</td>\n",
              "      <td>1.0</td>\n",
              "      <td>1.0</td>\n",
              "      <td>11.3</td>\n",
              "      <td>18.3</td>\n",
              "      <td>0</td>\n",
              "      <td>0</td>\n",
              "    </tr>\n",
              "    <tr>\n",
              "      <th>8</th>\n",
              "      <td>18.4</td>\n",
              "      <td>35.3</td>\n",
              "      <td>0.0</td>\n",
              "      <td>10.0</td>\n",
              "      <td>12.5</td>\n",
              "      <td>33.0</td>\n",
              "      <td>11.0</td>\n",
              "      <td>13.0</td>\n",
              "      <td>44.0</td>\n",
              "      <td>18.0</td>\n",
              "      <td>1017.9</td>\n",
              "      <td>1013.4</td>\n",
              "      <td>0.0</td>\n",
              "      <td>0.0</td>\n",
              "      <td>23.7</td>\n",
              "      <td>34.9</td>\n",
              "      <td>0</td>\n",
              "      <td>0</td>\n",
              "    </tr>\n",
              "  </tbody>\n",
              "</table>\n",
              "</div>"
            ],
            "text/plain": [
              "   SuhuMin  SuhuMax  Hujan  ...  Suhu3pm  BersaljuHariIni  BersaljuBesok\n",
              "3      7.3     24.5    0.0  ...     23.2                0              0\n",
              "4      5.9     20.3    0.0  ...     18.1                0              0\n",
              "5     14.4     21.8    0.0  ...     21.1                0              0\n",
              "6      7.7     18.7    0.2  ...     18.3                0              0\n",
              "8     18.4     35.3    0.0  ...     34.9                0              0\n",
              "\n",
              "[5 rows x 18 columns]"
            ]
          },
          "metadata": {
            "tags": []
          },
          "execution_count": 68
        }
      ]
    },
    {
      "cell_type": "code",
      "metadata": {
        "colab": {
          "base_uri": "https://localhost:8080/",
          "height": 204
        },
        "id": "PiCgMOZUES-1",
        "outputId": "175135d6-6558-4052-f939-0a2580d9fcce"
      },
      "source": [
        "traintarget = datatrain.iloc[:,[17]]\n",
        "traintarget.head()"
      ],
      "execution_count": 69,
      "outputs": [
        {
          "output_type": "execute_result",
          "data": {
            "text/html": [
              "<div>\n",
              "<style scoped>\n",
              "    .dataframe tbody tr th:only-of-type {\n",
              "        vertical-align: middle;\n",
              "    }\n",
              "\n",
              "    .dataframe tbody tr th {\n",
              "        vertical-align: top;\n",
              "    }\n",
              "\n",
              "    .dataframe thead th {\n",
              "        text-align: right;\n",
              "    }\n",
              "</style>\n",
              "<table border=\"1\" class=\"dataframe\">\n",
              "  <thead>\n",
              "    <tr style=\"text-align: right;\">\n",
              "      <th></th>\n",
              "      <th>BersaljuBesok</th>\n",
              "    </tr>\n",
              "  </thead>\n",
              "  <tbody>\n",
              "    <tr>\n",
              "      <th>3</th>\n",
              "      <td>0</td>\n",
              "    </tr>\n",
              "    <tr>\n",
              "      <th>4</th>\n",
              "      <td>0</td>\n",
              "    </tr>\n",
              "    <tr>\n",
              "      <th>5</th>\n",
              "      <td>0</td>\n",
              "    </tr>\n",
              "    <tr>\n",
              "      <th>6</th>\n",
              "      <td>0</td>\n",
              "    </tr>\n",
              "    <tr>\n",
              "      <th>8</th>\n",
              "      <td>0</td>\n",
              "    </tr>\n",
              "  </tbody>\n",
              "</table>\n",
              "</div>"
            ],
            "text/plain": [
              "   BersaljuBesok\n",
              "3              0\n",
              "4              0\n",
              "5              0\n",
              "6              0\n",
              "8              0"
            ]
          },
          "metadata": {
            "tags": []
          },
          "execution_count": 69
        }
      ]
    },
    {
      "cell_type": "code",
      "metadata": {
        "colab": {
          "base_uri": "https://localhost:8080/",
          "height": 224
        },
        "id": "TOJygMQaFSzp",
        "outputId": "6dcbdc27-54c5-4475-a910-6383c4bbb4db"
      },
      "source": [
        "traindata = datatrain.iloc[:,[0,1,2,3,4,5,6,7,8,9,10,11,12,13,14,15,16]]\n",
        "traindata.head()"
      ],
      "execution_count": 70,
      "outputs": [
        {
          "output_type": "execute_result",
          "data": {
            "text/html": [
              "<div>\n",
              "<style scoped>\n",
              "    .dataframe tbody tr th:only-of-type {\n",
              "        vertical-align: middle;\n",
              "    }\n",
              "\n",
              "    .dataframe tbody tr th {\n",
              "        vertical-align: top;\n",
              "    }\n",
              "\n",
              "    .dataframe thead th {\n",
              "        text-align: right;\n",
              "    }\n",
              "</style>\n",
              "<table border=\"1\" class=\"dataframe\">\n",
              "  <thead>\n",
              "    <tr style=\"text-align: right;\">\n",
              "      <th></th>\n",
              "      <th>SuhuMin</th>\n",
              "      <th>SuhuMax</th>\n",
              "      <th>Hujan</th>\n",
              "      <th>Penguapan</th>\n",
              "      <th>SinarMatahari</th>\n",
              "      <th>KecepatanAnginTerkencang</th>\n",
              "      <th>KecepatanAngin9am</th>\n",
              "      <th>KecepatanAngin3pm</th>\n",
              "      <th>Kelembaban9am</th>\n",
              "      <th>Kelembaban3pm</th>\n",
              "      <th>Tekanan9am</th>\n",
              "      <th>Tekanan3pm</th>\n",
              "      <th>Awan9am</th>\n",
              "      <th>Awan3pm</th>\n",
              "      <th>Suhu9am</th>\n",
              "      <th>Suhu3pm</th>\n",
              "      <th>BersaljuHariIni</th>\n",
              "    </tr>\n",
              "  </thead>\n",
              "  <tbody>\n",
              "    <tr>\n",
              "      <th>3</th>\n",
              "      <td>7.3</td>\n",
              "      <td>24.5</td>\n",
              "      <td>0.0</td>\n",
              "      <td>8.4</td>\n",
              "      <td>10.4</td>\n",
              "      <td>54.0</td>\n",
              "      <td>13.0</td>\n",
              "      <td>19.0</td>\n",
              "      <td>25.0</td>\n",
              "      <td>17.0</td>\n",
              "      <td>1019.2</td>\n",
              "      <td>1016.9</td>\n",
              "      <td>1.0</td>\n",
              "      <td>7.0</td>\n",
              "      <td>15.3</td>\n",
              "      <td>23.2</td>\n",
              "      <td>0</td>\n",
              "    </tr>\n",
              "    <tr>\n",
              "      <th>4</th>\n",
              "      <td>5.9</td>\n",
              "      <td>20.3</td>\n",
              "      <td>0.0</td>\n",
              "      <td>3.6</td>\n",
              "      <td>12.6</td>\n",
              "      <td>37.0</td>\n",
              "      <td>22.0</td>\n",
              "      <td>19.0</td>\n",
              "      <td>55.0</td>\n",
              "      <td>48.0</td>\n",
              "      <td>1019.7</td>\n",
              "      <td>1014.7</td>\n",
              "      <td>2.0</td>\n",
              "      <td>6.0</td>\n",
              "      <td>12.4</td>\n",
              "      <td>18.1</td>\n",
              "      <td>0</td>\n",
              "    </tr>\n",
              "    <tr>\n",
              "      <th>5</th>\n",
              "      <td>14.4</td>\n",
              "      <td>21.8</td>\n",
              "      <td>0.0</td>\n",
              "      <td>3.2</td>\n",
              "      <td>4.4</td>\n",
              "      <td>39.0</td>\n",
              "      <td>19.0</td>\n",
              "      <td>20.0</td>\n",
              "      <td>63.0</td>\n",
              "      <td>52.0</td>\n",
              "      <td>1016.1</td>\n",
              "      <td>1012.5</td>\n",
              "      <td>7.0</td>\n",
              "      <td>7.0</td>\n",
              "      <td>16.7</td>\n",
              "      <td>21.1</td>\n",
              "      <td>0</td>\n",
              "    </tr>\n",
              "    <tr>\n",
              "      <th>6</th>\n",
              "      <td>7.7</td>\n",
              "      <td>18.7</td>\n",
              "      <td>0.2</td>\n",
              "      <td>5.6</td>\n",
              "      <td>9.7</td>\n",
              "      <td>46.0</td>\n",
              "      <td>19.0</td>\n",
              "      <td>28.0</td>\n",
              "      <td>69.0</td>\n",
              "      <td>31.0</td>\n",
              "      <td>1011.3</td>\n",
              "      <td>1008.8</td>\n",
              "      <td>1.0</td>\n",
              "      <td>1.0</td>\n",
              "      <td>11.3</td>\n",
              "      <td>18.3</td>\n",
              "      <td>0</td>\n",
              "    </tr>\n",
              "    <tr>\n",
              "      <th>8</th>\n",
              "      <td>18.4</td>\n",
              "      <td>35.3</td>\n",
              "      <td>0.0</td>\n",
              "      <td>10.0</td>\n",
              "      <td>12.5</td>\n",
              "      <td>33.0</td>\n",
              "      <td>11.0</td>\n",
              "      <td>13.0</td>\n",
              "      <td>44.0</td>\n",
              "      <td>18.0</td>\n",
              "      <td>1017.9</td>\n",
              "      <td>1013.4</td>\n",
              "      <td>0.0</td>\n",
              "      <td>0.0</td>\n",
              "      <td>23.7</td>\n",
              "      <td>34.9</td>\n",
              "      <td>0</td>\n",
              "    </tr>\n",
              "  </tbody>\n",
              "</table>\n",
              "</div>"
            ],
            "text/plain": [
              "   SuhuMin  SuhuMax  Hujan  ...  Suhu9am  Suhu3pm  BersaljuHariIni\n",
              "3      7.3     24.5    0.0  ...     15.3     23.2                0\n",
              "4      5.9     20.3    0.0  ...     12.4     18.1                0\n",
              "5     14.4     21.8    0.0  ...     16.7     21.1                0\n",
              "6      7.7     18.7    0.2  ...     11.3     18.3                0\n",
              "8     18.4     35.3    0.0  ...     23.7     34.9                0\n",
              "\n",
              "[5 rows x 17 columns]"
            ]
          },
          "metadata": {
            "tags": []
          },
          "execution_count": 70
        }
      ]
    },
    {
      "cell_type": "code",
      "metadata": {
        "colab": {
          "base_uri": "https://localhost:8080/"
        },
        "id": "1uBHJKbQt7AP",
        "outputId": "f5a7a049-11c7-45fb-a90d-17ba1e183943"
      },
      "source": [
        "from sklearn.preprocessing import MinMaxScaler\n",
        "\n",
        "nd_datatrain = MinMaxScaler(feature_range=(0,1)).fit_transform(traindata)\n",
        "nd_datatrain"
      ],
      "execution_count": 71,
      "outputs": [
        {
          "output_type": "execute_result",
          "data": {
            "text/plain": [
              "array([[0.37634409, 0.44390244, 0.        , ..., 0.39900249, 0.45215311,\n",
              "        0.        ],\n",
              "       [0.33870968, 0.34146341, 0.        , ..., 0.32668329, 0.33014354,\n",
              "        0.        ],\n",
              "       [0.5672043 , 0.37804878, 0.        , ..., 0.43391521, 0.40191388,\n",
              "        0.        ],\n",
              "       ...,\n",
              "       [0.56451613, 0.48536585, 0.        , ..., 0.5436409 , 0.50717703,\n",
              "        0.        ],\n",
              "       [0.72043011, 0.42439024, 0.        , ..., 0.56608479, 0.42583732,\n",
              "        0.        ],\n",
              "       [0.47043011, 0.57317073, 0.        , ..., 0.55860349, 0.59569378,\n",
              "        0.        ]])"
            ]
          },
          "metadata": {
            "tags": []
          },
          "execution_count": 71
        }
      ]
    },
    {
      "cell_type": "code",
      "metadata": {
        "colab": {
          "base_uri": "https://localhost:8080/"
        },
        "id": "coRjfoR-wjUb",
        "outputId": "89d60449-7951-4f2f-b56d-dfa686b04eb3"
      },
      "source": [
        "nd_datatrain.shape"
      ],
      "execution_count": 72,
      "outputs": [
        {
          "output_type": "execute_result",
          "data": {
            "text/plain": [
              "(42411, 17)"
            ]
          },
          "metadata": {
            "tags": []
          },
          "execution_count": 72
        }
      ]
    },
    {
      "cell_type": "markdown",
      "metadata": {
        "id": "jrOJtJ7-YzZZ"
      },
      "source": [
        "# Klasifikasi\n"
      ]
    },
    {
      "cell_type": "markdown",
      "metadata": {
        "id": "yuwT4x8zY87d"
      },
      "source": [
        "## (1) Naive Bayes"
      ]
    },
    {
      "cell_type": "code",
      "metadata": {
        "id": "eVKkPwHiDBCj"
      },
      "source": [
        "from sklearn.naive_bayes import GaussianNB\n",
        "\n",
        "#Create a Gaussian Classifier\n",
        "classNB = GaussianNB()\n",
        "\n",
        "#Train the model using the training sets\n",
        "classNB.fit(nd_datatrain,traintarget)\n",
        "NB_predict = classNB.predict(nd_datatest)\n"
      ],
      "execution_count": 73,
      "outputs": []
    },
    {
      "cell_type": "markdown",
      "metadata": {
        "id": "Atuec66YZEzl"
      },
      "source": [
        "## (2) Support Vector Machine"
      ]
    },
    {
      "cell_type": "code",
      "metadata": {
        "id": "O6RE8WNmkCga"
      },
      "source": [
        "from sklearn import svm\n",
        "\n",
        "#Create a svm Classifier\n",
        "classSVM = svm.SVC(kernel='linear') # Linear Kernel\n",
        "\n",
        "#Train the model using the training sets\n",
        "classSVM.fit(nd_datatrain, traintarget)\n",
        "\n",
        "#Predict the response for test dataset\n",
        "SVM_predict = classSVM.predict(nd_datatest)"
      ],
      "execution_count": 74,
      "outputs": []
    },
    {
      "cell_type": "markdown",
      "metadata": {
        "id": "jztm9H5nZE4H"
      },
      "source": [
        "## (3) KNN"
      ]
    },
    {
      "cell_type": "code",
      "metadata": {
        "id": "XjQuTOWLlN3g"
      },
      "source": [
        "from sklearn.neighbors import KNeighborsClassifier\n",
        "\n",
        "classKNN = KNeighborsClassifier(n_neighbors=5)\n",
        "\n",
        "classKNN.fit(nd_datatrain, traintarget)\n",
        "\n",
        "KNN_predict = classKNN.predict(nd_datatest)"
      ],
      "execution_count": 75,
      "outputs": []
    },
    {
      "cell_type": "markdown",
      "metadata": {
        "id": "SFK8zVNsRtmz"
      },
      "source": [
        "## (4) Logistic Regression"
      ]
    },
    {
      "cell_type": "code",
      "metadata": {
        "id": "vBD6d-aCRtm3"
      },
      "source": [
        "from sklearn.linear_model import LogisticRegression\n",
        "\n",
        "classLR = LogisticRegression()\n",
        "\n",
        "classLR.fit(nd_datatrain, traintarget)\n",
        "\n",
        "LR_predict = classLR.predict(nd_datatest)"
      ],
      "execution_count": 76,
      "outputs": []
    },
    {
      "cell_type": "markdown",
      "metadata": {
        "id": "bLgQDKLVU8_y"
      },
      "source": [
        "## (5) Decision Tree"
      ]
    },
    {
      "cell_type": "code",
      "metadata": {
        "id": "bnlcdkjbU8_2"
      },
      "source": [
        "from sklearn.tree import DecisionTreeClassifier\n",
        "\n",
        "classDT = DecisionTreeClassifier()\n",
        "\n",
        "classDT.fit(nd_datatrain, traintarget)\n",
        "\n",
        "DT_predict = classDT.predict(nd_datatest)"
      ],
      "execution_count": 77,
      "outputs": []
    },
    {
      "cell_type": "markdown",
      "metadata": {
        "id": "ITtXgiEaY2Ob"
      },
      "source": [
        "# Evaluasi"
      ]
    },
    {
      "cell_type": "markdown",
      "metadata": {
        "id": "oFRM7dxnLiSZ"
      },
      "source": [
        "## Akurasi, Confusion Matrix, dan Laporan Klasifikasi"
      ]
    },
    {
      "cell_type": "code",
      "metadata": {
        "id": "vXuZ2utrY6NY"
      },
      "source": [
        "arr_akurasi = []\n",
        "arr_conf = []\n",
        "arr_creport = []"
      ],
      "execution_count": 78,
      "outputs": []
    },
    {
      "cell_type": "code",
      "metadata": {
        "colab": {
          "base_uri": "https://localhost:8080/"
        },
        "id": "7fPqpu3YhWIU",
        "outputId": "c5167f7d-84cc-4191-c28b-fd053b1b8d01"
      },
      "source": [
        "\n",
        "# Naive Bayes\n",
        "from sklearn import metrics\n",
        "acc = metrics.accuracy_score(testtarget, NB_predict)\n",
        "confmatrix = metrics.confusion_matrix(testtarget, NB_predict)\n",
        "classreport = metrics.classification_report(testtarget, NB_predict)\n",
        "\n",
        "arr_akurasi.append(acc)\n",
        "arr_conf.append(confmatrix)\n",
        "arr_creport.append(classreport)\n",
        "\n",
        "print(\"Accuracy:\", acc)\n",
        "print(\"\\nConfusion Matrix:\\n\",confmatrix)\n",
        "print(\"\\nClassification Report:\\n\",classreport)"
      ],
      "execution_count": 79,
      "outputs": [
        {
          "output_type": "stream",
          "text": [
            "Accuracy: 0.7847776510832383\n",
            "\n",
            "Confusion Matrix:\n",
            " [[4331 1085]\n",
            " [ 425 1175]]\n",
            "\n",
            "Classification Report:\n",
            "               precision    recall  f1-score   support\n",
            "\n",
            "           0       0.91      0.80      0.85      5416\n",
            "           1       0.52      0.73      0.61      1600\n",
            "\n",
            "    accuracy                           0.78      7016\n",
            "   macro avg       0.72      0.77      0.73      7016\n",
            "weighted avg       0.82      0.78      0.80      7016\n",
            "\n"
          ],
          "name": "stdout"
        }
      ]
    },
    {
      "cell_type": "code",
      "metadata": {
        "colab": {
          "base_uri": "https://localhost:8080/"
        },
        "id": "DS-gMdl0kFhD",
        "outputId": "898c5e52-6104-4dbf-a44d-583e252dd6a1"
      },
      "source": [
        "# Support Vector Machine\n",
        "\n",
        "acc = metrics.accuracy_score(testtarget, SVM_predict)\n",
        "confmatrix = metrics.confusion_matrix(testtarget, SVM_predict)\n",
        "classreport = metrics.classification_report(testtarget, SVM_predict)\n",
        "\n",
        "arr_akurasi.append(acc)\n",
        "arr_conf.append(confmatrix)\n",
        "arr_creport.append(classreport)\n",
        "\n",
        "print(\"Accuracy:\", acc)\n",
        "print(\"\\nConfusion Matrix:\\n\",confmatrix)\n",
        "print(\"\\nClassification Report:\\n\",classreport)"
      ],
      "execution_count": 80,
      "outputs": [
        {
          "output_type": "stream",
          "text": [
            "Accuracy: 0.8516248574686431\n",
            "\n",
            "Confusion Matrix:\n",
            " [[5016  400]\n",
            " [ 641  959]]\n",
            "\n",
            "Classification Report:\n",
            "               precision    recall  f1-score   support\n",
            "\n",
            "           0       0.89      0.93      0.91      5416\n",
            "           1       0.71      0.60      0.65      1600\n",
            "\n",
            "    accuracy                           0.85      7016\n",
            "   macro avg       0.80      0.76      0.78      7016\n",
            "weighted avg       0.85      0.85      0.85      7016\n",
            "\n"
          ],
          "name": "stdout"
        }
      ]
    },
    {
      "cell_type": "code",
      "metadata": {
        "colab": {
          "base_uri": "https://localhost:8080/"
        },
        "id": "CMwrsNljiH34",
        "outputId": "e3505f94-6865-43c0-f0bf-0b1f77a62d8b"
      },
      "source": [
        "# KNN\n",
        "\n",
        "acc = metrics.accuracy_score(testtarget, KNN_predict)\n",
        "confmatrix = metrics.confusion_matrix(testtarget, KNN_predict)\n",
        "classreport = metrics.classification_report(testtarget, KNN_predict)\n",
        "\n",
        "arr_akurasi.append(acc)\n",
        "arr_conf.append(confmatrix)\n",
        "arr_creport.append(classreport)\n",
        "\n",
        "print(\"Accuracy:\", acc)\n",
        "print(\"\\nConfusion Matrix:\\n\",confmatrix)\n",
        "print(\"\\nClassification Report:\\n\",classreport)"
      ],
      "execution_count": 81,
      "outputs": [
        {
          "output_type": "stream",
          "text": [
            "Accuracy: 0.8377993158494869\n",
            "\n",
            "Confusion Matrix:\n",
            " [[4986  430]\n",
            " [ 708  892]]\n",
            "\n",
            "Classification Report:\n",
            "               precision    recall  f1-score   support\n",
            "\n",
            "           0       0.88      0.92      0.90      5416\n",
            "           1       0.67      0.56      0.61      1600\n",
            "\n",
            "    accuracy                           0.84      7016\n",
            "   macro avg       0.78      0.74      0.75      7016\n",
            "weighted avg       0.83      0.84      0.83      7016\n",
            "\n"
          ],
          "name": "stdout"
        }
      ]
    },
    {
      "cell_type": "code",
      "metadata": {
        "colab": {
          "base_uri": "https://localhost:8080/"
        },
        "id": "qV-RsjSTSULr",
        "outputId": "5320bec7-e7d5-499c-993a-680740033e3f"
      },
      "source": [
        "# Logistic Regression\n",
        "\n",
        "acc = metrics.accuracy_score(testtarget, LR_predict)\n",
        "confmatrix = metrics.confusion_matrix(testtarget, LR_predict)\n",
        "classreport = metrics.classification_report(testtarget, LR_predict)\n",
        "\n",
        "arr_akurasi.append(acc)\n",
        "arr_conf.append(confmatrix)\n",
        "arr_creport.append(classreport)\n",
        "\n",
        "print(\"Accuracy:\", acc)\n",
        "print(\"\\nConfusion Matrix:\\n\",confmatrix)\n",
        "print(\"\\nClassification Report:\\n\",classreport)"
      ],
      "execution_count": 82,
      "outputs": [
        {
          "output_type": "stream",
          "text": [
            "Accuracy: 0.8517673888255416\n",
            "\n",
            "Confusion Matrix:\n",
            " [[4980  436]\n",
            " [ 604  996]]\n",
            "\n",
            "Classification Report:\n",
            "               precision    recall  f1-score   support\n",
            "\n",
            "           0       0.89      0.92      0.91      5416\n",
            "           1       0.70      0.62      0.66      1600\n",
            "\n",
            "    accuracy                           0.85      7016\n",
            "   macro avg       0.79      0.77      0.78      7016\n",
            "weighted avg       0.85      0.85      0.85      7016\n",
            "\n"
          ],
          "name": "stdout"
        }
      ]
    },
    {
      "cell_type": "code",
      "metadata": {
        "colab": {
          "base_uri": "https://localhost:8080/"
        },
        "id": "0ZIKEvVEVJQr",
        "outputId": "f3fe66ff-a9b4-4813-ca88-cf46d672acd0"
      },
      "source": [
        "# Decision Tree\n",
        "\n",
        "acc = metrics.accuracy_score(testtarget, DT_predict)\n",
        "confmatrix = metrics.confusion_matrix(testtarget, DT_predict)\n",
        "classreport = metrics.classification_report(testtarget, DT_predict)\n",
        "\n",
        "arr_akurasi.append(acc)\n",
        "arr_conf.append(confmatrix)\n",
        "arr_creport.append(classreport)\n",
        "\n",
        "print(\"Accuracy:\", acc)\n",
        "print(\"\\nConfusion Matrix:\\n\",confmatrix)\n",
        "print(\"\\nClassification Report:\\n\",classreport)"
      ],
      "execution_count": 83,
      "outputs": [
        {
          "output_type": "stream",
          "text": [
            "Accuracy: 0.75384834663626\n",
            "\n",
            "Confusion Matrix:\n",
            " [[4354 1062]\n",
            " [ 665  935]]\n",
            "\n",
            "Classification Report:\n",
            "               precision    recall  f1-score   support\n",
            "\n",
            "           0       0.87      0.80      0.83      5416\n",
            "           1       0.47      0.58      0.52      1600\n",
            "\n",
            "    accuracy                           0.75      7016\n",
            "   macro avg       0.67      0.69      0.68      7016\n",
            "weighted avg       0.78      0.75      0.76      7016\n",
            "\n"
          ],
          "name": "stdout"
        }
      ]
    },
    {
      "cell_type": "markdown",
      "metadata": {
        "id": "K4WykGjyLwW6"
      },
      "source": [
        "## Visualisasi Akurasi"
      ]
    },
    {
      "cell_type": "code",
      "metadata": {
        "id": "-bnMz5jWp13f"
      },
      "source": [
        "arr_metode = ['Naive Bayes','SVM','KNN','Logistic Regression','Decision Tree']"
      ],
      "execution_count": 95,
      "outputs": []
    },
    {
      "cell_type": "code",
      "metadata": {
        "colab": {
          "base_uri": "https://localhost:8080/",
          "height": 204
        },
        "id": "Vp9YM80Dhfo2",
        "outputId": "78bd8fba-eea2-44e1-f679-8adc7fbc01e9"
      },
      "source": [
        "df_akurasi = pd.DataFrame(arr_akurasi, columns=['akurasi'])\n",
        "df_akurasi['Metode']=arr_metode\n",
        "df_akurasi = df_akurasi.sort_values(by='akurasi', ascending=False)\n",
        "df_akurasi"
      ],
      "execution_count": 99,
      "outputs": [
        {
          "output_type": "execute_result",
          "data": {
            "text/html": [
              "<div>\n",
              "<style scoped>\n",
              "    .dataframe tbody tr th:only-of-type {\n",
              "        vertical-align: middle;\n",
              "    }\n",
              "\n",
              "    .dataframe tbody tr th {\n",
              "        vertical-align: top;\n",
              "    }\n",
              "\n",
              "    .dataframe thead th {\n",
              "        text-align: right;\n",
              "    }\n",
              "</style>\n",
              "<table border=\"1\" class=\"dataframe\">\n",
              "  <thead>\n",
              "    <tr style=\"text-align: right;\">\n",
              "      <th></th>\n",
              "      <th>akurasi</th>\n",
              "      <th>Metode</th>\n",
              "    </tr>\n",
              "  </thead>\n",
              "  <tbody>\n",
              "    <tr>\n",
              "      <th>3</th>\n",
              "      <td>0.851767</td>\n",
              "      <td>Logistic Regression</td>\n",
              "    </tr>\n",
              "    <tr>\n",
              "      <th>1</th>\n",
              "      <td>0.851625</td>\n",
              "      <td>SVM</td>\n",
              "    </tr>\n",
              "    <tr>\n",
              "      <th>2</th>\n",
              "      <td>0.837799</td>\n",
              "      <td>KNN</td>\n",
              "    </tr>\n",
              "    <tr>\n",
              "      <th>0</th>\n",
              "      <td>0.784778</td>\n",
              "      <td>Naive Bayes</td>\n",
              "    </tr>\n",
              "    <tr>\n",
              "      <th>4</th>\n",
              "      <td>0.753848</td>\n",
              "      <td>Decision Tree</td>\n",
              "    </tr>\n",
              "  </tbody>\n",
              "</table>\n",
              "</div>"
            ],
            "text/plain": [
              "    akurasi               Metode\n",
              "3  0.851767  Logistic Regression\n",
              "1  0.851625                  SVM\n",
              "2  0.837799                  KNN\n",
              "0  0.784778          Naive Bayes\n",
              "4  0.753848        Decision Tree"
            ]
          },
          "metadata": {
            "tags": []
          },
          "execution_count": 99
        }
      ]
    },
    {
      "cell_type": "code",
      "metadata": {
        "colab": {
          "base_uri": "https://localhost:8080/",
          "height": 296
        },
        "id": "JVrJ6-qDLzfx",
        "outputId": "224d4a74-3f4c-4b5c-8c2a-84b269ad28cd"
      },
      "source": [
        "# Akurasi\n",
        "sns.barplot(data=df_akurasi, x='Metode',y='akurasi',palette = \"Blues\")"
      ],
      "execution_count": 100,
      "outputs": [
        {
          "output_type": "execute_result",
          "data": {
            "text/plain": [
              "<matplotlib.axes._subplots.AxesSubplot at 0x7fa1d3ad14d0>"
            ]
          },
          "metadata": {
            "tags": []
          },
          "execution_count": 100
        },
        {
          "output_type": "display_data",
          "data": {
            "image/png": "[encoded data removed]",
            "text/plain": [
              "<Figure size 432x288 with 1 Axes>"
            ]
          },
          "metadata": {
            "tags": [],
            "needs_background": "light"
          }
        }
      ]
    }
  ]
}